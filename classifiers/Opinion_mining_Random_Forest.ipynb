{
  "nbformat": 4,
  "nbformat_minor": 0,
  "metadata": {
    "colab": {
      "name": "Opinion_mining_Random-Forest.ipynb",
      "provenance": [],
      "collapsed_sections": []
    },
    "kernelspec": {
      "name": "python3",
      "display_name": "Python 3"
    }
  },
  "cells": [
    {
      "cell_type": "code",
      "metadata": {
        "id": "gQrWBOuY2UJ9",
        "colab_type": "code",
        "outputId": "9ca837b6-2b61-490c-c964-f2dd625db9d1",
        "colab": {
          "base_uri": "https://localhost:8080/",
          "height": 55
        }
      },
      "source": [
        "from google.colab import drive\n",
        "drive.mount('/content/drive/')"
      ],
      "execution_count": 0,
      "outputs": [
        {
          "output_type": "stream",
          "text": [
            "Drive already mounted at /content/drive/; to attempt to forcibly remount, call drive.mount(\"/content/drive/\", force_remount=True).\n"
          ],
          "name": "stdout"
        }
      ]
    },
    {
      "cell_type": "markdown",
      "metadata": {
        "id": "y-w2GKxmZBZq",
        "colab_type": "text"
      },
      "source": [
        "**Dataset analysis**\n",
        "\n"
      ]
    },
    {
      "cell_type": "markdown",
      "metadata": {
        "id": "IYhdDCzKaUiW",
        "colab_type": "text"
      },
      "source": [
        "Reading the CSV file into pandas dataframe"
      ]
    },
    {
      "cell_type": "code",
      "metadata": {
        "id": "D_rB6LCxc-fQ",
        "colab_type": "code",
        "outputId": "e130133e-959d-4b84-d4ae-bc807f9298cf",
        "colab": {
          "base_uri": "https://localhost:8080/",
          "height": 312
        }
      },
      "source": [
        "import pandas as pd\n",
        "\n",
        "df = pd.read_csv('/content/drive/My Drive/Colab Notebooks/Opinion mining/labeled_data.csv',encoding = \"ISO-8859-1\")\n",
        "df.head()"
      ],
      "execution_count": 0,
      "outputs": [
        {
          "output_type": "execute_result",
          "data": {
            "text/html": [
              "<div>\n",
              "<style scoped>\n",
              "    .dataframe tbody tr th:only-of-type {\n",
              "        vertical-align: middle;\n",
              "    }\n",
              "\n",
              "    .dataframe tbody tr th {\n",
              "        vertical-align: top;\n",
              "    }\n",
              "\n",
              "    .dataframe thead th {\n",
              "        text-align: right;\n",
              "    }\n",
              "</style>\n",
              "<table border=\"1\" class=\"dataframe\">\n",
              "  <thead>\n",
              "    <tr style=\"text-align: right;\">\n",
              "      <th></th>\n",
              "      <th>Unnamed: 0</th>\n",
              "      <th>count</th>\n",
              "      <th>hate_speech</th>\n",
              "      <th>offensive_language</th>\n",
              "      <th>neither</th>\n",
              "      <th>class</th>\n",
              "      <th>tweet</th>\n",
              "    </tr>\n",
              "  </thead>\n",
              "  <tbody>\n",
              "    <tr>\n",
              "      <th>0</th>\n",
              "      <td>0</td>\n",
              "      <td>3</td>\n",
              "      <td>0</td>\n",
              "      <td>0</td>\n",
              "      <td>3</td>\n",
              "      <td>2</td>\n",
              "      <td>!!! RT @mayasolovely: As a woman you shouldn't...</td>\n",
              "    </tr>\n",
              "    <tr>\n",
              "      <th>1</th>\n",
              "      <td>1</td>\n",
              "      <td>3</td>\n",
              "      <td>0</td>\n",
              "      <td>3</td>\n",
              "      <td>0</td>\n",
              "      <td>1</td>\n",
              "      <td>!!!!! RT @mleew17: boy dats cold...tyga dwn ba...</td>\n",
              "    </tr>\n",
              "    <tr>\n",
              "      <th>2</th>\n",
              "      <td>2</td>\n",
              "      <td>3</td>\n",
              "      <td>0</td>\n",
              "      <td>3</td>\n",
              "      <td>0</td>\n",
              "      <td>1</td>\n",
              "      <td>!!!!!!! RT @UrKindOfBrand Dawg!!!! RT @80sbaby...</td>\n",
              "    </tr>\n",
              "    <tr>\n",
              "      <th>3</th>\n",
              "      <td>3</td>\n",
              "      <td>3</td>\n",
              "      <td>0</td>\n",
              "      <td>2</td>\n",
              "      <td>1</td>\n",
              "      <td>1</td>\n",
              "      <td>!!!!!!!!! RT @C_G_Anderson: @viva_based she lo...</td>\n",
              "    </tr>\n",
              "    <tr>\n",
              "      <th>4</th>\n",
              "      <td>4</td>\n",
              "      <td>6</td>\n",
              "      <td>0</td>\n",
              "      <td>6</td>\n",
              "      <td>0</td>\n",
              "      <td>1</td>\n",
              "      <td>!!!!!!!!!!!!! RT @ShenikaRoberts: The shit you...</td>\n",
              "    </tr>\n",
              "  </tbody>\n",
              "</table>\n",
              "</div>"
            ],
            "text/plain": [
              "   Unnamed: 0  count  ...  class                                              tweet\n",
              "0           0      3  ...      2  !!! RT @mayasolovely: As a woman you shouldn't...\n",
              "1           1      3  ...      1  !!!!! RT @mleew17: boy dats cold...tyga dwn ba...\n",
              "2           2      3  ...      1  !!!!!!! RT @UrKindOfBrand Dawg!!!! RT @80sbaby...\n",
              "3           3      3  ...      1  !!!!!!!!! RT @C_G_Anderson: @viva_based she lo...\n",
              "4           4      6  ...      1  !!!!!!!!!!!!! RT @ShenikaRoberts: The shit you...\n",
              "\n",
              "[5 rows x 7 columns]"
            ]
          },
          "metadata": {
            "tags": []
          },
          "execution_count": 4
        }
      ]
    },
    {
      "cell_type": "markdown",
      "metadata": {
        "id": "C4siCHk4bKZj",
        "colab_type": "text"
      },
      "source": [
        "Dataset info"
      ]
    },
    {
      "cell_type": "code",
      "metadata": {
        "id": "Vx7aanLzdI7a",
        "colab_type": "code",
        "outputId": "bff602c0-c0a7-4225-ddc1-a85e43376001",
        "colab": {
          "base_uri": "https://localhost:8080/",
          "height": 159
        }
      },
      "source": [
        "print(\"length of data\",len(df))\n",
        "print(\"dataset shape\", df.shape)\n",
        "\n",
        "print(\"dataset columns:\",df.columns)\n",
        "print(\"dataset columns length:\",len(df.columns))\n",
        "\n",
        "print(\"dataset rows:\",df.index)\n",
        "print(\"dataset rows length:\",len(df.index))"
      ],
      "execution_count": 0,
      "outputs": [
        {
          "output_type": "stream",
          "text": [
            "length of data 24783\n",
            "dataset shape (24783, 7)\n",
            "dataset columns: Index(['Unnamed: 0', 'count', 'hate_speech', 'offensive_language', 'neither',\n",
            "       'class', 'tweet'],\n",
            "      dtype='object')\n",
            "dataset columns length: 7\n",
            "dataset rows: RangeIndex(start=0, stop=24783, step=1)\n",
            "dataset rows length: 24783\n"
          ],
          "name": "stdout"
        }
      ]
    },
    {
      "cell_type": "code",
      "metadata": {
        "id": "jBbwksrqdeDu",
        "colab_type": "code",
        "outputId": "941a133f-98ed-41ae-888c-b1d7fe61d393",
        "colab": {
          "base_uri": "https://localhost:8080/",
          "height": 808
        }
      },
      "source": [
        "#dropping the nan values from our dataframe if any present but no such empty cells exist in our dataframe so its shape remains same\n",
        "df = df.dropna()\n",
        "print(df.shape)\n",
        "\n",
        "\n",
        "# if any empty row exist then droping the rows also drops it's index values so we need to adjust the indexing values.\n",
        "copy_df = df.copy()\n",
        "copy_df.reset_index(inplace = True)\n",
        "copy_df\n",
        "# here we are creating a copy of dataframe and resetting its index if NaN val. exists without effecting our original dataframe"
      ],
      "execution_count": 0,
      "outputs": [
        {
          "output_type": "stream",
          "text": [
            "(24783, 7)\n"
          ],
          "name": "stdout"
        },
        {
          "output_type": "execute_result",
          "data": {
            "text/html": [
              "<div>\n",
              "<style scoped>\n",
              "    .dataframe tbody tr th:only-of-type {\n",
              "        vertical-align: middle;\n",
              "    }\n",
              "\n",
              "    .dataframe tbody tr th {\n",
              "        vertical-align: top;\n",
              "    }\n",
              "\n",
              "    .dataframe thead th {\n",
              "        text-align: right;\n",
              "    }\n",
              "</style>\n",
              "<table border=\"1\" class=\"dataframe\">\n",
              "  <thead>\n",
              "    <tr style=\"text-align: right;\">\n",
              "      <th></th>\n",
              "      <th>index</th>\n",
              "      <th>Unnamed: 0</th>\n",
              "      <th>count</th>\n",
              "      <th>hate_speech</th>\n",
              "      <th>offensive_language</th>\n",
              "      <th>neither</th>\n",
              "      <th>class</th>\n",
              "      <th>tweet</th>\n",
              "    </tr>\n",
              "  </thead>\n",
              "  <tbody>\n",
              "    <tr>\n",
              "      <th>0</th>\n",
              "      <td>0</td>\n",
              "      <td>0</td>\n",
              "      <td>3</td>\n",
              "      <td>0</td>\n",
              "      <td>0</td>\n",
              "      <td>3</td>\n",
              "      <td>2</td>\n",
              "      <td>!!! RT @mayasolovely: As a woman you shouldn't...</td>\n",
              "    </tr>\n",
              "    <tr>\n",
              "      <th>1</th>\n",
              "      <td>1</td>\n",
              "      <td>1</td>\n",
              "      <td>3</td>\n",
              "      <td>0</td>\n",
              "      <td>3</td>\n",
              "      <td>0</td>\n",
              "      <td>1</td>\n",
              "      <td>!!!!! RT @mleew17: boy dats cold...tyga dwn ba...</td>\n",
              "    </tr>\n",
              "    <tr>\n",
              "      <th>2</th>\n",
              "      <td>2</td>\n",
              "      <td>2</td>\n",
              "      <td>3</td>\n",
              "      <td>0</td>\n",
              "      <td>3</td>\n",
              "      <td>0</td>\n",
              "      <td>1</td>\n",
              "      <td>!!!!!!! RT @UrKindOfBrand Dawg!!!! RT @80sbaby...</td>\n",
              "    </tr>\n",
              "    <tr>\n",
              "      <th>3</th>\n",
              "      <td>3</td>\n",
              "      <td>3</td>\n",
              "      <td>3</td>\n",
              "      <td>0</td>\n",
              "      <td>2</td>\n",
              "      <td>1</td>\n",
              "      <td>1</td>\n",
              "      <td>!!!!!!!!! RT @C_G_Anderson: @viva_based she lo...</td>\n",
              "    </tr>\n",
              "    <tr>\n",
              "      <th>4</th>\n",
              "      <td>4</td>\n",
              "      <td>4</td>\n",
              "      <td>6</td>\n",
              "      <td>0</td>\n",
              "      <td>6</td>\n",
              "      <td>0</td>\n",
              "      <td>1</td>\n",
              "      <td>!!!!!!!!!!!!! RT @ShenikaRoberts: The shit you...</td>\n",
              "    </tr>\n",
              "    <tr>\n",
              "      <th>...</th>\n",
              "      <td>...</td>\n",
              "      <td>...</td>\n",
              "      <td>...</td>\n",
              "      <td>...</td>\n",
              "      <td>...</td>\n",
              "      <td>...</td>\n",
              "      <td>...</td>\n",
              "      <td>...</td>\n",
              "    </tr>\n",
              "    <tr>\n",
              "      <th>24778</th>\n",
              "      <td>24778</td>\n",
              "      <td>25291</td>\n",
              "      <td>3</td>\n",
              "      <td>0</td>\n",
              "      <td>2</td>\n",
              "      <td>1</td>\n",
              "      <td>1</td>\n",
              "      <td>you's a muthaf***in lie &amp;#8220;@LifeAsKing: @2...</td>\n",
              "    </tr>\n",
              "    <tr>\n",
              "      <th>24779</th>\n",
              "      <td>24779</td>\n",
              "      <td>25292</td>\n",
              "      <td>3</td>\n",
              "      <td>0</td>\n",
              "      <td>1</td>\n",
              "      <td>2</td>\n",
              "      <td>2</td>\n",
              "      <td>you've gone and broke the wrong heart baby, an...</td>\n",
              "    </tr>\n",
              "    <tr>\n",
              "      <th>24780</th>\n",
              "      <td>24780</td>\n",
              "      <td>25294</td>\n",
              "      <td>3</td>\n",
              "      <td>0</td>\n",
              "      <td>3</td>\n",
              "      <td>0</td>\n",
              "      <td>1</td>\n",
              "      <td>young buck wanna eat!!.. dat nigguh like I ain...</td>\n",
              "    </tr>\n",
              "    <tr>\n",
              "      <th>24781</th>\n",
              "      <td>24781</td>\n",
              "      <td>25295</td>\n",
              "      <td>6</td>\n",
              "      <td>0</td>\n",
              "      <td>6</td>\n",
              "      <td>0</td>\n",
              "      <td>1</td>\n",
              "      <td>youu got wild bitches tellin you lies</td>\n",
              "    </tr>\n",
              "    <tr>\n",
              "      <th>24782</th>\n",
              "      <td>24782</td>\n",
              "      <td>25296</td>\n",
              "      <td>3</td>\n",
              "      <td>0</td>\n",
              "      <td>0</td>\n",
              "      <td>3</td>\n",
              "      <td>2</td>\n",
              "      <td>~~Ruffled | Ntac Eileen Dahlia - Beautiful col...</td>\n",
              "    </tr>\n",
              "  </tbody>\n",
              "</table>\n",
              "<p>24783 rows × 8 columns</p>\n",
              "</div>"
            ],
            "text/plain": [
              "       index  ...                                              tweet\n",
              "0          0  ...  !!! RT @mayasolovely: As a woman you shouldn't...\n",
              "1          1  ...  !!!!! RT @mleew17: boy dats cold...tyga dwn ba...\n",
              "2          2  ...  !!!!!!! RT @UrKindOfBrand Dawg!!!! RT @80sbaby...\n",
              "3          3  ...  !!!!!!!!! RT @C_G_Anderson: @viva_based she lo...\n",
              "4          4  ...  !!!!!!!!!!!!! RT @ShenikaRoberts: The shit you...\n",
              "...      ...  ...                                                ...\n",
              "24778  24778  ...  you's a muthaf***in lie &#8220;@LifeAsKing: @2...\n",
              "24779  24779  ...  you've gone and broke the wrong heart baby, an...\n",
              "24780  24780  ...  young buck wanna eat!!.. dat nigguh like I ain...\n",
              "24781  24781  ...              youu got wild bitches tellin you lies\n",
              "24782  24782  ...  ~~Ruffled | Ntac Eileen Dahlia - Beautiful col...\n",
              "\n",
              "[24783 rows x 8 columns]"
            ]
          },
          "metadata": {
            "tags": []
          },
          "execution_count": 6
        }
      ]
    },
    {
      "cell_type": "markdown",
      "metadata": {
        "id": "IvJvxw_6cAiq",
        "colab_type": "text"
      },
      "source": [
        "creating our feature matrix by removing both Unnamed and class columns and also tweet col. since here we would add numeric values using BOW in tweet col."
      ]
    },
    {
      "cell_type": "code",
      "metadata": {
        "id": "FJwlDoB7_wm3",
        "colab_type": "code",
        "outputId": "33459bbd-91c1-4743-9b67-88686f89e6f8",
        "colab": {
          "base_uri": "https://localhost:8080/",
          "height": 194
        }
      },
      "source": [
        "\n",
        "x = df.drop(['Unnamed: 0','class','tweet'], axis = 1)\n",
        "x.head()\n",
        "\n"
      ],
      "execution_count": 0,
      "outputs": [
        {
          "output_type": "execute_result",
          "data": {
            "text/html": [
              "<div>\n",
              "<style scoped>\n",
              "    .dataframe tbody tr th:only-of-type {\n",
              "        vertical-align: middle;\n",
              "    }\n",
              "\n",
              "    .dataframe tbody tr th {\n",
              "        vertical-align: top;\n",
              "    }\n",
              "\n",
              "    .dataframe thead th {\n",
              "        text-align: right;\n",
              "    }\n",
              "</style>\n",
              "<table border=\"1\" class=\"dataframe\">\n",
              "  <thead>\n",
              "    <tr style=\"text-align: right;\">\n",
              "      <th></th>\n",
              "      <th>count</th>\n",
              "      <th>hate_speech</th>\n",
              "      <th>offensive_language</th>\n",
              "      <th>neither</th>\n",
              "    </tr>\n",
              "  </thead>\n",
              "  <tbody>\n",
              "    <tr>\n",
              "      <th>0</th>\n",
              "      <td>3</td>\n",
              "      <td>0</td>\n",
              "      <td>0</td>\n",
              "      <td>3</td>\n",
              "    </tr>\n",
              "    <tr>\n",
              "      <th>1</th>\n",
              "      <td>3</td>\n",
              "      <td>0</td>\n",
              "      <td>3</td>\n",
              "      <td>0</td>\n",
              "    </tr>\n",
              "    <tr>\n",
              "      <th>2</th>\n",
              "      <td>3</td>\n",
              "      <td>0</td>\n",
              "      <td>3</td>\n",
              "      <td>0</td>\n",
              "    </tr>\n",
              "    <tr>\n",
              "      <th>3</th>\n",
              "      <td>3</td>\n",
              "      <td>0</td>\n",
              "      <td>2</td>\n",
              "      <td>1</td>\n",
              "    </tr>\n",
              "    <tr>\n",
              "      <th>4</th>\n",
              "      <td>6</td>\n",
              "      <td>0</td>\n",
              "      <td>6</td>\n",
              "      <td>0</td>\n",
              "    </tr>\n",
              "  </tbody>\n",
              "</table>\n",
              "</div>"
            ],
            "text/plain": [
              "   count  hate_speech  offensive_language  neither\n",
              "0      3            0                   0        3\n",
              "1      3            0                   3        0\n",
              "2      3            0                   3        0\n",
              "3      3            0                   2        1\n",
              "4      6            0                   6        0"
            ]
          },
          "metadata": {
            "tags": []
          },
          "execution_count": 7
        }
      ]
    },
    {
      "cell_type": "code",
      "metadata": {
        "id": "1m57sjzpdCRB",
        "colab_type": "code",
        "outputId": "bbd08744-e77e-44f5-8912-7c6f1826ef05",
        "colab": {
          "base_uri": "https://localhost:8080/",
          "height": 232
        }
      },
      "source": [
        "print(\"length of feature dataset\",len(x))\n",
        "print(\"feature dataset shape\", x.shape)\n",
        "\n",
        "print(\"dataset columns:\",x.columns)\n",
        "print(\"dataset columns length:\",len(x.columns))\n",
        "\n",
        "print(\"dataset rows:\",x.index)\n",
        "print(\"dataset rows length:\",len(x.index))"
      ],
      "execution_count": 0,
      "outputs": [
        {
          "output_type": "stream",
          "text": [
            "length of feature dataset 24783\n",
            "feature dataset shape (24783, 4)\n",
            "dataset columns: Index(['count', 'hate_speech', 'offensive_language', 'neither'], dtype='object')\n",
            "dataset columns length: 4\n",
            "dataset rows: Int64Index([    0,     1,     2,     3,     4,     5,     6,     7,     8,\n",
            "                9,\n",
            "            ...\n",
            "            24773, 24774, 24775, 24776, 24777, 24778, 24779, 24780, 24781,\n",
            "            24782],\n",
            "           dtype='int64', length=24783)\n",
            "dataset rows length: 24783\n"
          ],
          "name": "stdout"
        }
      ]
    },
    {
      "cell_type": "markdown",
      "metadata": {
        "id": "YCwLIWOjjdX8",
        "colab_type": "text"
      },
      "source": [
        "creating our response matrix by including class"
      ]
    },
    {
      "cell_type": "code",
      "metadata": {
        "id": "0sWJyxQea52N",
        "colab_type": "code",
        "outputId": "facd04b9-983e-4223-a57b-5ee49e0db5fd",
        "colab": {
          "base_uri": "https://localhost:8080/",
          "height": 248
        }
      },
      "source": [
        "y = df['class']\n",
        "print(y)\n",
        "\n",
        "print(\"length of response series:\",len(y))\n"
      ],
      "execution_count": 0,
      "outputs": [
        {
          "output_type": "stream",
          "text": [
            "0        2\n",
            "1        1\n",
            "2        1\n",
            "3        1\n",
            "4        1\n",
            "        ..\n",
            "24778    1\n",
            "24779    2\n",
            "24780    1\n",
            "24781    1\n",
            "24782    2\n",
            "Name: class, Length: 24783, dtype: int64\n",
            "length of response series: 24783\n"
          ],
          "name": "stdout"
        }
      ]
    },
    {
      "cell_type": "markdown",
      "metadata": {
        "id": "70lAmczdmtS_",
        "colab_type": "text"
      },
      "source": [
        "**Text preprocessing by removing stopwords and using stemming/lemmatization**"
      ]
    },
    {
      "cell_type": "code",
      "metadata": {
        "id": "tDm-KdNNjuxH",
        "colab_type": "code",
        "outputId": "b7b7721d-a77b-46c6-d972-8ab1a5556848",
        "colab": {
          "base_uri": "https://localhost:8080/",
          "height": 88
        }
      },
      "source": [
        "import re\n",
        "import nltk\n",
        "nltk.download('stopwords')\n",
        "nltk.download('wordnet')\n",
        "\n",
        "from nltk.corpus import stopwords\n",
        "#from nltk.stem.porter import PorterStemmer\n",
        "from nltk.stem import WordNetLemmatizer"
      ],
      "execution_count": 0,
      "outputs": [
        {
          "output_type": "stream",
          "text": [
            "[nltk_data] Downloading package stopwords to /root/nltk_data...\n",
            "[nltk_data]   Package stopwords is already up-to-date!\n",
            "[nltk_data] Downloading package wordnet to /root/nltk_data...\n",
            "[nltk_data]   Unzipping corpora/wordnet.zip.\n"
          ],
          "name": "stdout"
        }
      ]
    },
    {
      "cell_type": "code",
      "metadata": {
        "id": "L_FIS488kbCu",
        "colab_type": "code",
        "colab": {}
      },
      "source": [
        "#stemmer = PorterStemmer()\n",
        "lemmatizer = WordNetLemmatizer()\n",
        "\n",
        "cleaned_tweets = []"
      ],
      "execution_count": 0,
      "outputs": []
    },
    {
      "cell_type": "code",
      "metadata": {
        "id": "bXmxLcH5o3vZ",
        "colab_type": "code",
        "colab": {}
      },
      "source": [
        "for i in range(0,len(df)):\n",
        "    \n",
        "    # we are selecting the tweets in the dataframe and applying various operations in it\n",
        "    review = re.sub('[^a-zA-Z]',\" \", df['tweet'][i])\n",
        "\n",
        "    # lower casing all tweet data\n",
        "    review = review.lower()\n",
        "    \n",
        "    # we are splitting the messages into word list on the basis of spaces\n",
        "    review = review.split()\n",
        "    \n",
        "    # if word is not stopword then we stem it and excludes all the stopwords \n",
        "    review = [lemmatizer.lemmatize(word) for word in review if word not in stopwords.words('english') ]\n",
        "    \n",
        "    review = \" \".join(review)\n",
        "    \n",
        "    cleaned_tweets.append(review)"
      ],
      "execution_count": 0,
      "outputs": []
    },
    {
      "cell_type": "code",
      "metadata": {
        "id": "TU00Rrgspz9o",
        "colab_type": "code",
        "outputId": "fe2e75e2-272a-46ec-ebc9-958924c5e998",
        "colab": {
          "base_uri": "https://localhost:8080/",
          "height": 1000
        }
      },
      "source": [
        "# after removing stopwords and applying stemming \n",
        "cleaned_tweets"
      ],
      "execution_count": 0,
      "outputs": [
        {
          "output_type": "execute_result",
          "data": {
            "text/plain": [
              "['rt mayasolovely woman complain cleaning house amp man always take trash',\n",
              " 'rt mleew boy dat cold tyga dwn bad cuffin dat hoe st place',\n",
              " 'rt urkindofbrand dawg rt sbaby life ever fuck bitch start cry confused shit',\n",
              " 'rt c g anderson viva based look like tranny',\n",
              " 'rt shenikaroberts shit hear might true might faker bitch told ya',\n",
              " 'madison x shit blow claim faithful somebody still fucking hoe',\n",
              " 'brighterdays sit hate another bitch got much shit going',\n",
              " 'selfiequeenbri cause tired big bitch coming u skinny girl',\n",
              " 'amp might get ya bitch back amp thats',\n",
              " 'rhythmixx hobby include fighting mariam bitch',\n",
              " 'keeks bitch curve everyone lol walked conversation like smh',\n",
              " 'murda gang bitch gang land',\n",
              " 'hoe smoke loser yea go ig',\n",
              " 'bad bitch thing like',\n",
              " 'bitch get',\n",
              " 'bitch nigga miss',\n",
              " 'bitch plz whatever',\n",
              " 'bitch love',\n",
              " 'bitch get cut everyday b',\n",
              " 'black bottle amp bad bitch',\n",
              " 'broke bitch cant tell nothing',\n",
              " 'cancel bitch like nino',\n",
              " 'cant see hoe wont change',\n",
              " 'fuck bitch dont even suck dick kermit video bout fuck ig',\n",
              " 'got ya bitch tip toeing hardwood floor http co cou wq l q',\n",
              " 'pussy lip like heaven door',\n",
              " 'hoe hitting',\n",
              " 'met pussy ocean dr gave pussy pill',\n",
              " 'need trippy bitch fuck hennessy',\n",
              " 'spend money want bitch business',\n",
              " 'txt old bitch new bitch pussy wetter',\n",
              " 'say im back old old bitch would get excited',\n",
              " 'aint bout murder game pussy nigga shut',\n",
              " 'toe done pussy stink',\n",
              " 'im done bitter bitch wrap angry bird there app',\n",
              " 'ya bitch',\n",
              " 'aint nothing cut bitch',\n",
              " 'jus meet son ya mane as bitch shot',\n",
              " 'lame cry hoe thats tear clown',\n",
              " 'like snoop said dont love hoe',\n",
              " 'momma said pussy cat inside doghouse',\n",
              " 'hated hoe favorite mw sevenone http co bmdsvmc rc',\n",
              " 'nice girl bad make get naughty bad yello hoe real nice body south chick like em real thick http co bzrdl kf u',\n",
              " 'pimp pimp hoe future voice',\n",
              " 'post picture pussy get like',\n",
              " 'pussy powerful drug happyhumpday http co r jsymib b',\n",
              " 'quick piece pussy call drive',\n",
              " 'running round like brand new pussy thats bout get fucked',\n",
              " 'bitch even worst send guy',\n",
              " 'hoe like nigga spend money talk bout',\n",
              " 'dont trust nigga bitch',\n",
              " 'yall nigga b cuffing hoe cause yall aint never bitch',\n",
              " 'dodge bullet darealkha da bitch cut pregnant bound thank god',\n",
              " 'young pill chamberlain bitch love music',\n",
              " 'vandalsavage teanna trump probably cleaner twitter hoe',\n",
              " 'dahomiefuzz gay nigga wait act like bitch tonight',\n",
              " 'paradox ima steal cat n replace pitbull rt sbaby life paradox bitch',\n",
              " 'amp gone always hoe',\n",
              " 'son bitch took tic tacs like movie',\n",
              " 'wanna get money fuck model bitch russell simmons',\n",
              " 'seniorprobs probably mind school much deal bitch as teacher retweet',\n",
              " 'xdemery fucking fag said',\n",
              " 'arizzleindacut female think dating pussy cute http co vxbjg gsz stuff make pussy',\n",
              " 'addicted guy simplyaddictedtoguys http co jl hi zmf woof woof hot scally lad',\n",
              " 'adorebellaaa ya ever asked bitch bitch kanye voice yes',\n",
              " 'adorezoey u gone bring ur side bitch game know ya gf friend swear',\n",
              " 'allaboutmanfeet http co gzupfumev woof woof hot sol',\n",
              " 'allyhaaaaa lemmie eat oreo amp dish one oreo lol',\n",
              " 'almightywayne jetsandaswisher gook bitch fuck u http co pxmga nc maybe get better http co tprevwfq',\n",
              " 'almightywayne fuck red malone man bitch as niggah could please use complete sentence',\n",
              " 'arizonasfinest eggplant emoji doe say looked like scream lmao',\n",
              " 'autoworid hennessey venom gt http co egmnkaj one sexy bitch',\n",
              " 'bossbytchh seh pussy wetter shower curtain ahmesehwetness lt lmao',\n",
              " 'bro hen eaglesnation every eagle need see pic posted bitch said racist shit',\n",
              " 'bvsedchink yo fuck skateboarding wood pushing faggot man ball life http co vbczp hmt amjemiebenn',\n",
              " 'babyanimalpics baby monkey bathtime http co kpwadlf r awwwwe soooo adorable',\n",
              " 'baylaagottabody shit damn skippy lol',\n",
              " 'beeasyjrizzy u ever kill ant sidewalk think damn nigga way get pussy b must b gt chance',\n",
              " 'beenbasedb kudabrazyy http co luubgl u ring mvp bitch lol',\n",
              " 'beenflynsolo ppl talk bad ghetto hood kid growing nigga funnnnnnn',\n",
              " 'bestproadvice fact tattoo tattoo http co zwnbhpdz e pussy tattooing nipple',\n",
              " 'bill rt nel ayden bitch wanting act like nigga bad shit aint cuteeeee nigga act like bitch',\n",
              " 'bitchjones get worshiping bitch http co r cejcjou woof woof',\n",
              " 'blackchiquitita wow rt thatmanpalmer lost buttcheek piercings http co yn guyouq yeah hoe',\n",
              " 'blacknerdjade ok si rather broke bitch shrug tell work',\n",
              " 'blackman tide whalelookyhere howdydowdy queer gaywad',\n",
              " 'brokenpiecesmsc itsnotadam faggot read tweet dat k even funny lol',\n",
              " 'brosconfessions bitch ungrateful http co e bgwbx fr lulwhore',\n",
              " 'cashandboobies kidnapped yo bitch',\n",
              " 'cb baby white thunduh alsarabsss he beaner smh tell he mexican',\n",
              " 'ccobey aydanmccoy happy birthday nigs thanks yo',\n",
              " 'chlldhoodruiner ur teacher tell u u homework http co rkk vawij bitch need go',\n",
              " 'caelang edham caelang nigga eating hoe lol hell yea lol john paul nigga said john paul http co osipbkpr h',\n",
              " 'canifuckornah would lil ugly bald headed bitch stop making make amp weave',\n",
              " 'carelessone leaf better win damn game go riot shit earlychristmas better start looting nig',\n",
              " 'causewereguys going back school suck dick hoe attend',\n",
              " 'causewereguys way fuck yo bitch http co j ze r year old',\n",
              " 'celeynichole white thunduh come never bring food dont car retard',\n",
              " 'chadmfverbeck richnow show hella tinder hoe im friend anymore chill brought like like prople',\n",
              " 'chandlerparsons bout cowboy shutup pussy',\n",
              " 'clicquotsuave lmaooooooooooo nigga krillz nuh care http co aanpsujmyi lt bitch want like depressing shit foh',\n",
              " 'coley cee lil aerii girl know spitting g shit amp going lbvs bitch plz',\n",
              " 'coley cee let make couple tweet cuzzo page get twitter jail lmao bitch trick',\n",
              " 'comedyposts harlem shake excuse go full retard second',\n",
              " 'comedytruth amen miley http co p kb tfyxr okay need act like hoe bc emotionally damaged foh',\n",
              " 'corybandz one loyal female wayyyyy better hoe idc',\n",
              " 'crhedrys pussy licking pussy meow meow stopwhitepeople http co keegdcjs k',\n",
              " 'dbab holloway check th man cowboysnation even faggot ny fan stand',\n",
              " 'dgotbricks happen vixen ent bitch got ran threw side like foothill bitch',\n",
              " 'daedavidavie white thunduh im bitch okay nude pat wow',\n",
              " 'devilgrimz vigxrarts fucking gay blacklisted hoe holding tehgodclan anyway http co xuccwoetmn',\n",
              " 'diamondloudkush fuck wrong bitch nobody know',\n",
              " 'dietrich yall shut p make bitch',\n",
              " 'dionairish hate pregnant type bitch',\n",
              " 'doyou q got bitch dm ever read em top',\n",
              " 'domworldpeace baseball season win yankee love started',\n",
              " 'dommoneek little stupid bitch fuck yoooooouuuu',\n",
              " 'dreadheadari really asked dead as serious tho could say bitch wheet lol',\n",
              " 'dunderbail early bird night owl wise worm',\n",
              " 'edgarpixar overdosing heavy drug sound bad tonight pussy shit every day',\n",
              " 'el grillo pit bull photographed lovely fairy tale creature http co q sm oolh fairy tale creature',\n",
              " 'ferocious ghost stname bravo aw fag tweet aw lol',\n",
              " 'flokid long lakers trash could careless real cc benballer hahaha',\n",
              " 'frosstyy h rheyd say anything tho kiss faggot',\n",
              " 'funnypicsdepot play soccer cheat girl wear khaki coloured cargo haircut http co zuai qwbir yup',\n",
              " 'g status could go fat as bitch lap',\n",
              " 'gedmelle missed call da yo p bitch twitter finna screamn freemoneymelle',\n",
              " 'gtm al ya side bitch gotta know rule shit anybody ask cousin jersey thinkin bout moving lmmfao',\n",
              " 'gagatom malefoot amo los pie http co qe hdkk fuck yeah',\n",
              " 'girlthatsvonte hoe thinking meat slap as ainna bruh',\n",
              " 'girlthatsvonte yall bitch wit edge talking',\n",
              " 'girlthatsvonte yall still going trick treating year nah hell yeah ima da sweet tooth bandit steal bitch bag n shit',\n",
              " 'girllssues wanna sex mom fuck right pussy came damn got hacked like fuck',\n",
              " 'gizzy jones kiss u eye open watch bitch lmfao',\n",
              " 'goofstroop woulda coulda shoulda as hoe',\n",
              " 'gotti ltf happy bday bitch as nigga jetsandaswisher preciate bitch roll',\n",
              " 'hbmostdope jayee pipinhoes used send bitch',\n",
              " 'hbmostdope ugly bitch like wcw duh bitch nobody el',\n",
              " 'halotgmg stname bravo nigga know hacky sack hoe nah throw look pass lmao',\n",
              " 'heartlessfuck glad getting outta atlanta nothing bunch nigga amp outta jail amp dumb bitch mad kid fuckin em',\n",
              " 'hermosaalma ghetto smart http co mpazq jswf idc',\n",
              " 'hiimjorib would wife hoe cuz care cheating force relationship first place',\n",
              " 'hornyfacts single excuse hoe theonemiss luu',\n",
              " 'hoskinsty white boy power bitch black power bitch',\n",
              " 'hudgens let get drunk get blowed spit shit spark blunts amp fuck hoe bro white dude chill',\n",
              " 'iscoutgirls verbally abrupt bitch u around world back',\n",
              " 'itsyahboiray anelylove get dick sucked yo party bad bitch fr gone set anelylove',\n",
              " 'itsyesie oomf soooo cute probably hoe lot',\n",
              " 'jayten every cartoon alway nuffsaid saving hoe lmao http co ukd wtz x lmao damn captain saveahoe',\n",
              " 'jreebo want get nose bad bois scally chav sockfetish stinking http co feqxgn w hot sox leg',\n",
              " 'jamesynba wish bitch like brother keezy ooooow bet',\n",
              " 'jasminepore dressed cat halloween basic pussy',\n",
              " 'jewelxo pornhub get gaming stream feature dumb bitch gtfo pornhub get katie lt',\n",
              " 'joebudden stop scared choke sex u bitch as nigga like say guy hit woman bed foh',\n",
              " 'johnny perez white thunduh ha well iguess make hoe loyal bro theyll never loyal hoe nig',\n",
              " 'kazatta takehov oh man molly ho fuck ya seed fixed',\n",
              " 'kelsiebelsi man refer every girl bitch',\n",
              " 'keyshawnswag lmfao cat started beating shit nigga finally got pussy nigga',\n",
              " 'keyshawnswag peel peel bring back rewind back move shaq line ooooow tf said trash',\n",
              " 'kingcuh stanley io io alu record ho vine sai pe hahahaha lol anywaaaaaays haha',\n",
              " 'kinghendo vondreaam naw old tape new cover upcoming mixtape kingofthehill yeah waiting hoe mayne',\n",
              " 'kingteej ol dirty foot as bitch funny',\n",
              " 'king shawn white thunduh get yellow flag amazing hell yeah niggy',\n",
              " 'kissmysmilee got time bitch actin iffy',\n",
              " 'knightfanneal ucfpinkparty come stay alive knight nation still early bird special comeatmeut',\n",
              " 'kyranadiya hoe loyal http co h ubsvbkgl smfh amp wonder nobody decent want',\n",
              " 'lcistj bruh stud keep thinking soft hell ask ya girl many time screamed bitch oh okay stfu bye hoe',\n",
              " 'lodycash dry pussy bitch always blame condom',\n",
              " 'lunaraps shut yo bitch as http co iemn u gm',\n",
              " 'laflaregodjosh gucci mane jail dropping mixtapes every month hoe even text back',\n",
              " 'latrobemark love hoe money wats wrong nigga',\n",
              " 'lebronvuitton loyal bitch burbs without daddy issue like finding holographic mewtwo sounding like lol',\n",
              " 'lilfridayhoe easy cum easy hoe fact',\n",
              " 'lifeasbros charlie sheen real http co gggdk kov major fucking respect charlie sheen',\n",
              " 'lightskingawdd wish bae got hoe tho',\n",
              " 'lil mike fuck twerking bitch cook',\n",
              " 'linniekravitz wesgodlaflare bitch wtf http co dasmycxodb',\n",
              " 'lipe great h rheyd lipe great shut zoe fight pussy zoe good man good move along',\n",
              " 'lolaaisdope lmao fucking snake bitch em',\n",
              " 'loveable aizah big booty hoe everywhere sheesh damn',\n",
              " 'mlbnetwork stay tuned mlbnetwork update report yankee b teixeiramark week dliming bum',\n",
              " 'rad dezdlt play soccer cheat girl wear khaki coloured cargo haircut http co tycihd pkw yes lmfao soccerboy',\n",
              " 'madflyentist oregon choke every year get field trash as program rft',\n",
              " 'mannydiesel def cowboy lol rt artoffloyd terrell owen best eagle amp cowboy ever dude cried like bitch tv romo',\n",
              " 'markroundtreejr lmfaoooo hate black people http co rnvd nlcdr black people nigger',\n",
              " 'master tolife gabrielastarr could u bitch potent',\n",
              " 'maxmayo http co jk kr x pissed lad past would lick dirty sol slept',\n",
              " 'maxmayo http co prrskknqrv love frat boy w soft long sol',\n",
              " 'maxmayo http co xpsc makgj sexy lad hot sol arch',\n",
              " 'megamindnick white thunduh nah fam gotta cheat hoe depends female feel',\n",
              " 'mesha nojas vontethekidd got hick lol',\n",
              " 'migsmichelen new twitter confusing shit go back south america bitch',\n",
              " 'miikito x toto mean as vagina think pussy cause toto santi like nasty pussy',\n",
              " 'mikelahenry actually choose ugly bitch as must fat',\n",
              " 'mileycyrus bitch kill vibe ya tried dis love miley',\n",
              " 'montrell tired bitch saying look mean nigga big af wear tight shirt grim everybody',\n",
              " 'motherjones bird grandkids may never see thanks climate change http co xqmxhkaswt http co rbitegrnhm climate',\n",
              " 'mvckfadden stay beautiful bitch',\n",
              " 'nickiminaj wutkinda r purple ceeeleee man gurl jus playin stupid hoe track still shitted sum gurls',\n",
              " 'nastycopper money getting taller bitch getting blurry',\n",
              " 'newsomejade never seen bitch obsessed nigga obsessed mine',\n",
              " 'nicholas ted kobe stay talking trash let forget http co vh tnekvtp j austin meant one smh',\n",
              " 'nochillpaz least nigger http co rgja cfoit lmfao',\n",
              " 'fakingg people always asking mixed bad asian bitch lol',\n",
              " 'notoriousbm whiteponyjr ariza snake coward least cripple like hero roach lmaoo',\n",
              " 'osay aint ignorealllaws foster home imaginary trash whoa chill show everything tf',\n",
              " 'officialreplay lowkey tired tired quiet go sleep hoe',\n",
              " 'prayingforhead macklemroe stop bringing weird nigger mention prayingforhead http co cussdjesrk',\n",
              " 'prettyboss brat love hoe',\n",
              " 'patrickquelo yo girl cant homeboy ol weak bitch as nigga',\n",
              " 'patsfanjoe palomino think worst advice gave pussy speed lol',\n",
              " 'poemsporn quote tweet favorite animal pussy',\n",
              " 'poetic success hate stripper tell dancer hoe ballet dancer pop pussy beethoven stripper',\n",
              " 'poffalicious andrewbryant poff double vision beer poff double pussy smh',\n",
              " 'poobie bitch twerk computer ya ya damn',\n",
              " 'prodsjewel sreadthepeace yungmindless peacepunkprince prince art http co ephrwxmbhr nobody takin bitch',\n",
              " 'quan welfare government aid claimed white people black slander trash',\n",
              " 'quan bitch care play role',\n",
              " 'queen kaaat took find hiding lime tree iemonaids dis bitch da wrong tree bro',\n",
              " 'rtnba drake new shoe released nike jordan yes glitter shoe http co qctplxhexm dude fag',\n",
              " 'rachiesoul dizzleofficial inna di ghetto alone lmaoo',\n",
              " 'ramboutit master tolife ramboutit hoe austin teach u austin teach u get curved know',\n",
              " 'reachtheeclimax bitch cook know suck dick one',\n",
              " 'renegademo fat hoe get chose lol',\n",
              " 'riahsm hoesaintloyal well hoe one expects loyal',\n",
              " 'rishaawilliams treshon scrooge nevertrustt ol bitch as http co amcoiny wg',\n",
              " 'rnadjorell bruh im tired nigga retweetin miley cyrus naked bitch aint type bad lmaooo',\n",
              " 'sactownprodigy tony romo mavs game dont mean still bitch lmao fuk cowgirl lol bitch fuck',\n",
              " 'samjlayman holy shit freddie highmore charlie chocolate factory roll floor laughing',\n",
              " 'samirahusic want sex gf feel like using anonymous whata faggot',\n",
              " 'sexualgxfs one follower http co f tjl xnct somebody bitch',\n",
              " 'shaa jenkins ya bitch always bitching clearly care annoying bitch',\n",
              " 'shantaughther catfish hoe thinkin slick nigga catching',\n",
              " 'shewenttojordan worry bitch worried bout real',\n",
              " 'showarrive side hoe insecure nigga handle real one',\n",
              " 'shun stokes rt bluprint lmao bitch come scooting tent like fuck shit',\n",
              " 'shun stokes cousin said share hoe brother said sharing caring love brother',\n",
              " 'slimgirl probz hungry ionn wanna spend money food broke hoe problem',\n",
              " 'smeegbaby dese hoe lyin u nigga',\n",
              " 'snakecharmsdump http co b dqzcv oh yeah fuck bitch',\n",
              " 'sportscenter eli manning threw nfl leading th interception season lmao trash',\n",
              " 'sportscenter usc senior rb anthony brown call head coach steve sarkisian racist quits team http co joosdsubir bitch',\n",
              " 'stellatex guess also zero time mansplaining adios stfu pussy',\n",
              " 'stephenwildboy chilling http co mik ipnle sexy scally lad',\n",
              " 'strap sharing bitch mine mine',\n",
              " 'sukmysweetness money impress simple broke bitch',\n",
              " 'sylvieamx pisces never anybody bitch let people control change rigghhht',\n",
              " 'tee jonez stanley kingcuh tuku ho idk blah blah blah',\n",
              " 'tee jonez kingcuh stanley mad cuh hahaha suure tuku ho ita',\n",
              " 'tayknosbest hoe crazy',\n",
              " 'taylorr babee ever gonna slice bitch kevin hart',\n",
              " 'thatniggatroy oomf fuckin fine tho dam bitch',\n",
              " 'thegamerkingkev wonder girl gave head boy drink magaluf twitter probly sends nude fag',\n",
              " 'thenewsat newsatquestions yeah bitch yeah bitch call maybe b steve c later jesse pinkman machinegunkelly',\n",
              " 'thenymphotweets hickies thigh right pussy gt gt gt right',\n",
              " 'theonemiss luu would still love longer young beautiful ugly monkey as',\n",
              " 'therealrickyb jetsandaswisher gook come front bitch coming',\n",
              " 'therealrickyb jetsandaswisher faggot bitch http co hyyabk eh',\n",
              " 'realist sam madrid yea ipad work friday let ball faggot tropicalblanket work',\n",
              " 'theo http co byj hoyhmg scally lad would get',\n",
              " 'theomaxximus gerryshalloweenparty http co ycrsrnjhc halloween yesterday stupid nigger',\n",
              " 'theomaxximus chrus still supahot tho walk teacher test drop test bitch fohead http co nb vgdssgi',\n",
              " 'thornton kantkeepahbytch love eating pussy lol never get full lol eat shit forever lol ever',\n",
              " 'tmacc gfg voiceofdstreetz tmacc gfg tizzimarie slush hoe nasty anyway fam hoe taste like med',\n",
              " 'tmacc gfg tizzimarie slush hoe nasty anyway fam',\n",
              " 'tmacc gfg bobby bitch bobbyshmurdags getting live fuck hell yea play hoe workout',\n",
              " 'trelekidd yo bitch gucci mane rt jabarithegreat bitch stoner http co lt lijjpg',\n",
              " 'tweetgamelazy ride bitch handle bar',\n",
              " 'tyjoncuffee hoe get traphoussseeeee',\n",
              " 'uberfacts sad tv character death still bitter http co ulclfuf nc http co rxyqoosm ned stark man',\n",
              " 'unholy jack harbor bitch party bus hoe lol',\n",
              " 'vbomb woodchuck pussy love',\n",
              " 'veronikahumbert ultraviolence video coming little bitch mtvhottest lana del rey http co flbvwqh bitchy promo',\n",
              " 'vineforthebyrd way fuck bitch http co lmtfnl iy lmfao kittycopter',\n",
              " 'wbur smuggler explains helped fighter along jihadi highway http co ux anxeawd',\n",
              " 'wbeezy quathegreat aww avis look cute together http co lporcb w gotta get ike avi bitch',\n",
              " 'wbeezy run drc simple dont hoe dont worry exposed fight',\n",
              " 'wannabekanye why bitch boosting http co uod f wtkv size exactly healthy tho',\n",
              " 'withaprettyface nonlykeisha bet bitch kim bye',\n",
              " 'x xpdotjdot damn near gotta protect tweet stalker annoying got dope dick drive bitch loco',\n",
              " 'xojennygirl making marack girlfriend marackaf aye b pullin hoe like taught',\n",
              " 'xoxo angiee bruno fag boy love',\n",
              " 'yehits von run drc must bitch sike naw always beefing',\n",
              " 'yankee yankee look rally bottom th rallycap',\n",
              " 'youngricooo wexicanafro take advantage nice person hoe everyjuan',\n",
              " 'youngricooo happy birthday bitch nigga wexicanafro thanks pal',\n",
              " 'youngricooo sad knowing hoe fuck bc got stack wait till friday',\n",
              " 'yungmigo shane cinco shit harder fucc nigga yee fucc wit rich homie cuz dat ya homeboy fucc nicca',\n",
              " 'zoebarton h rheyd ewww said last sunday last sunday read nigs',\n",
              " 'bada bing punch real nigga face cause pussy nigga gonna punch right back strong mush shake',\n",
              " 'beedontcare pussy still fresh lt something stank girl say',\n",
              " 'geewillikers as slapping one greatest thing haha slapped girl as got mad aint get pussy week',\n",
              " 'tommycollins wearerichnow buffalobills yeah texan much better fucking retard see mad',\n",
              " 'malibubarbie nd wtf dark bitch blonde please several seat hoe looking like black amp milds',\n",
              " 'sugga lane bitch need stay left n get right fuck outta face',\n",
              " 'sneakyb hate boy deny bitch smh',\n",
              " 'taradise ya nigs still saying eat butt straight face',\n",
              " 'yourewelcome im bos as bitch need sit corner',\n",
              " 'iwantfranny hoe',\n",
              " 'prettyflvck paul thinkin bout gettin rental da weekend oooh shit bitch betta stay da street',\n",
              " 'rapdreams bitch hold nigga get locked nigga go college military different story',\n",
              " 'simplycaitlin friend hate ratchet hoe',\n",
              " 'adriwadrri love fuck nigga hoe',\n",
              " 'airmaxlad hot meat http co brz imk vk sexy fuck scally lad would love meet trainer',\n",
              " 'airmaxlad sniff http co fhhbbrmybn perved scally lad fuck yeah',\n",
              " 'alejandra p bitch love sosa',\n",
              " 'alexissixela white thunduh legit watched second wtf prob cause retarded smh',\n",
              " 'allisonnamaya name cat idea mr pussy',\n",
              " 'altosteel http co tm mh xg woof woof sexy thug boy scally',\n",
              " 'ambitiousbree nonlykeisha u see damn phone ringing married bitch make demand called',\n",
              " 'analicialouise tevin favorite sophomore think funny he really lmaoo he little hoe',\n",
              " 'angelenagoley sex position http co nt pabmwsm http co jmhz sczf naw u call fucking soul outta bitch',\n",
              " 'ashlingwilde itsnotadam bored supposed cute faggot sometimes',\n",
              " 'ayyee ceee one man trash another man treasure',\n",
              " 'babineaux got type bad bitch thing like iongotnotype',\n",
              " 'bigbootybishopp white thunduh lassen cc coach want feel youll get nig doubt',\n",
              " 'bleedingtrap god teeth gold chain white bitch cocaine',\n",
              " 'cheetahbluntz hoe hoe shhhhh',\n",
              " 'chieflottahoes c call roller chiraq call thots across america known hoe',\n",
              " 'clayton jenn gonna miss bitch bus driver lie',\n",
              " 'coltforty gone hate bitch try put friendzone bitch tryin score put endzone soul',\n",
              " 'complex uk ashley young tried deny bird landed mouth gt http co mlr ewgonk http co avchfj rem hahaha',\n",
              " 'datfullerkid trevaughnlg yall gimped tht bitch huh lol',\n",
              " 'deepthroatmike boy south take ride http co h matjyfga redneck woof woof',\n",
              " 'demi eggleton oh god love victoria mitchell bitch love',\n",
              " 'djsliime long distance shit wack knew bitch cheating uh oh',\n",
              " 'fiirting right http co jzkkivuvjc bitch smh',\n",
              " 'fatboyswagg ban dat pussy life amp gotta pay millon dollar fine',\n",
              " 'fuckcamoclark rose red violet blue nigger black know true dylan',\n",
              " 'g rillaz e sitting window sill window open bird try fly smacked protecttheanimals peta',\n",
              " 'glowstruck nigga gon nigga nigga sound fuckin retarded',\n",
              " 'greggutfeld video entire medium likely mock http co xfr crxwsm crybaby',\n",
              " 'gurl im angie itskiaraaaa westyourmajesty even shy stfu kikis mom hi angelique angelique smile dip cracker soup',\n",
              " 'haitian gold tim tebow got cut every team nfl already got hoe starkville smh',\n",
              " 'hazelebaby karma bitch damn godprotectshisangels sip tea',\n",
              " 'hornyjhb fuckin hot gym pussy http co zvymcxquta fuck yeah',\n",
              " 'hxhassan jihadi patron hajjaj al ajmi arrested kuwait airport http co zmlokfwdql',\n",
              " 'iampickuplines call fireman cause turn hoe',\n",
              " 'icrawley could never bby lil dick thts got abortion last bitch oh god',\n",
              " 'idntwearcondoms watch woman try argue like dick actually fucked pussy hate bitch',\n",
              " 'ilgdaily smoke weed public fuck cop man wanna run come retarded',\n",
              " 'itrapwatermelon tweety bird tho http co jbnonm n p',\n",
              " 'irlfatty pussy sweet like watermelon http co sklph ttog thotermelon',\n",
              " 'itscoleharmon twitter rapper dm trash link http co nmr auqg',\n",
              " 'jsadass loud bitch annoy',\n",
              " 'jacaxeltlu eventually every bitch turn hoe truuu',\n",
              " 'jaimescudi tonybthrz jaimescudi swear oomf try talking tomorrow barackobama pussy',\n",
              " 'jama jam bitch pretending tf crazy never lied',\n",
              " 'jasmyncyniquee white thunduh k bye hoe um bye',\n",
              " 'jayswaggkillah jackies retard blondeproblems least make grilled cheese',\n",
              " 'jboii ima keep giving pussy as nigga ah reason hate',\n",
              " 'jethromass photo http co cxrs bvhpw sole heaven',\n",
              " 'jgabsss stacey dash http co pdlg rjol baddest bitch evaaaa',\n",
              " 'juicyyyjayyyy side bitch sunday',\n",
              " 'k eazy fact baldheaded bitch made shit http co fdyojpt xg lmao',\n",
              " 'kayreneeee fuck wit u tweakin hoe shmurda',\n",
              " 'kazooook actin like th day wesgodlaflare http co gmtevpat spook',\n",
              " 'kikistfu break lil bitch neck even feel sorry savage',\n",
              " 'leikant fucking hot scally sneakersex sockfetish sniff trainersex http co tubivxbxco love kinky scallies',\n",
              " 'likemicah dumb as nigga pressed hoe weak fuck fuck weed hoe oreo',\n",
              " 'lildurk turn yo bitch eaterrrrrrrrr',\n",
              " 'lildurk trust dese hoe nikki told st stay fan screen shot asap finna come chiraq shoot sumn',\n",
              " 'marackaf white thunduh aye yall ima tryout bowling team frfr tryout passed tho there two retard',\n",
              " 'maybe u got u want bitch enjoy http co glqzwtgmj crazy party would love attend',\n",
              " 'metroadlib colored contact eye blinder mine cause see lmao',\n",
              " 'michelle westt fact poonsoaker dude hoe say got hoe j austin',\n",
              " 'midywidey rea start smacking bitch period bluffin best',\n",
              " 'molssyo life bitch die thats get high cause neva know gonna go sister perfect',\n",
              " 'molssyo one u drug still wrong currieburry hahahahahahah im bitch sometimes',\n",
              " 'morgandaylee feeling pretty fuckin ghetto smh',\n",
              " 'nohands tolife nohands dejaaleeann b coleman swears man easily easily behind austin nip',\n",
              " 'obey jrock true ride die bitch http co bkwhx fkw fuck hahahahah',\n",
              " 'oldpicsarchive h g well charlie chaplin http co stiddhk wt history photography',\n",
              " 'ortiz jaylene see bruno bitch as twitter wtf bruno see drake voice',\n",
              " 'ozzie garza white thunduh cool faggot chill tf cool nigga',\n",
              " 'ozzie garza white thunduh sure bitch frfr tf',\n",
              " 'poppunksucks twitter source news broadcast fucking retard nbc abc cnn fox etc keeping quiet',\n",
              " 'queendulaaa got couple bitch saying know let money talk like wwyd',\n",
              " 'realfortes grudge weirdo bitch',\n",
              " 'rhythmixx told mariam cigarette birthday also called trash rn',\n",
              " 'riananewman edham brownie tonight kind',\n",
              " 'rollyup text back give fuck text another bitch damn someone hurt lol',\n",
              " 'ronald iongi ummmmmm okay http co bvlsci k got hoe left right yah thang',\n",
              " 'royalswagg using mx b find slope as',\n",
              " 'rugbysocklad fit lad nice gear http co thnxx lc scally lad n trainer would get',\n",
              " 'rugbysocklad hell yeah bro http co yib ud c fuck yeah sexy scally lad hot gear',\n",
              " 'rugbysocklad helping mate http co emnado qoj love scally play fuck yeah',\n",
              " 'rugbysocklad lad lad http co f ujcyj fuck yeah love scally lad action hot trainer',\n",
              " 'savage twotone next year bitch gonna like gotta promise expose',\n",
              " 'scallynikelad sleazytwinks hot rt opcinjen lick bitch http co jloukqdcom fuck yeah eat trainer u dirty fucker',\n",
              " 'sierrabernia g cincokilby think celebrity pussy different local yeah meghan good',\n",
              " 'sleepy yongguk saw ajumma walk beginning saying wow trash even listen lmaoo',\n",
              " 'sniffsockslad need sox http co xydb rchxh fuck yeah love kinky scally lad w rank sox sneak',\n",
              " 'snoleezey ever expose female like childish bitch nigga shiiii',\n",
              " 'socass sexilexi socass yasss try new thing bestfriend bitch love',\n",
              " 'socass dude remember wop video sexilexi http co p heuboqbu omg find',\n",
              " 'soxandjox thick raw fuck http co g rvuhcebn damn man pussy getting workout',\n",
              " 'soxdawg rawr rt skinrubberboi sexy french scally love frenchscally http co idq r akz sexy scally woof woof',\n",
              " 'splurgb nothin life free bitch need write ya panty',\n",
              " 'stephencdo currieburry one bitch want burrito u catch potosino huh haha',\n",
              " 'talibanshawtyy nigga whole hoe cuz said better',\n",
              " 'theaveragerocks hardcore way eat mac cheese boil water snort cheese powder drink boiling water fuck bitch',\n",
              " 'thebravebird yourenotmytype fade perpetually fresher real as bitch rite',\n",
              " 'thejudyann annoying bitch love http co oxlqvqbrc judyann pretty',\n",
              " 'thotmouths http co aqkgorauxx lmao bitch got huggies',\n",
              " 'trestiffer hi bitch bitch bye bitch http co rbcrxmrtqp',\n",
              " 'trutherbot look like bitch el capacitor',\n",
              " 'whoiscoreyking chase money hoe',\n",
              " 'whooligan stand know want as nigga bitch',\n",
              " 'wiganzlad markycrumb gmail short way http co mqczuxlbtt love chav hot sexy scally fucker',\n",
              " 'witmyrudeass newly gay bitch kno shit work',\n",
              " 'witmyrudeass bitch want real job become stripper lol lol',\n",
              " 'wodaeeex awww meat meat feelins ainn n feeling bitch',\n",
              " 'wodaeeex want snake bite industrial piercin amp tattoo dem hoe accessory dea',\n",
              " 'worldtraveis baby albino http co tytqj fec meeeesh',\n",
              " 'worldwarzee hoe loyal',\n",
              " 'xoxoclauudia yassssss ordered chinese bitch ate taco fat fuck',\n",
              " 'z mbiedance made bitch lunch elizabethbatman bitch love lunch',\n",
              " 'brainer soon bitch get rich political power view change political whore http co ekepsjwcyu',\n",
              " 'pussy day keep devil away doperthanyola',\n",
              " 'bitch mean',\n",
              " 'bitch want baby want child',\n",
              " 'bitch must lost',\n",
              " 'baby like left side bitch cuz street side twitter said real',\n",
              " 'bae sound like ghetto word use something else',\n",
              " 'batter wee cunt jewis co fucked ex emma isnt battering girl nailed ive moved stop pussy n urself',\n",
              " 'bleed hoe alexa',\n",
              " 'boolin bando wit bitch',\n",
              " 'brownie brownie love movie',\n",
              " 'need bad bitch hotter might realist shit partynextdoor ever said feelin everyday',\n",
              " 'way punch bitch',\n",
              " 'caesar home rt naewoodster mjayskillz http co mw kaojkxb there much bitch look like let start ape shit',\n",
              " 'chinese maverick communicating comrade u know giving imperialist yank birdie http co gz jerps',\n",
              " 'dad say hi snapchat dad duce bitch',\n",
              " 'believe hoe fact loyal disagree believe fact loyalest bunch hoe',\n",
              " 'know ugly bitch know broke nigga kevin gate',\n",
              " 'make make fall live nigga like meee bird amp favorite song weeknd',\n",
              " 'worry nigga see worry nigga see dat da nigga fuckin yo bitch',\n",
              " 'ever give pussy away keep tight alright',\n",
              " 'dropped stack cause bitch poloboy song called dope download mixtape http co lacz e tg',\n",
              " 'dumb bitch dumb thing',\n",
              " 'eat pussy like real nigga hungry',\n",
              " 'eff let go cripple http co ksamx jpfv',\n",
              " 'everything look better bitch next',\n",
              " 'facto shaunasayomi care hoe as look like http co cjdt aqf',\n",
              " 'every bad bitch nigga tired fucking',\n",
              " 'foreign chick lie man bitch beautiful',\n",
              " 'fresh nigga kno need clean bitch kno working cuz wanna see team rich http co cgx hnak',\n",
              " 'fuck make rule suck dragon ball bitch call goku',\n",
              " 'generate ascii box nodejs see ability bring flappy bird node via ascii tube bird http co lrjwdfhv',\n",
              " 'get shit bitch fine bear',\n",
              " 'get as back detroit ya fuckin wigger',\n",
              " 'girl dated okay mad yo unless stabbed heart love hoe',\n",
              " 'know twitter password bitch please',\n",
              " 'seen show seen hoe hot would thick',\n",
              " 'bitch hitting hoe',\n",
              " 'married white woman lucky sum bitch uncle ruckus',\n",
              " 'wanna nigga trinna saving account omg imma funny as bitch man real shit',\n",
              " 'great grandma hoe grandma hoe mom hoe hoe long line hoe grandpa carl everyone',\n",
              " 'hey go look video man found kidnapped girl ohio nigger shitmybosssays',\n",
              " 'hey pussy still',\n",
              " 'draft gung ho folk send afghanistan war zone show http co sr zcehx',\n",
              " 'hotter bitch',\n",
              " 'u talking hoe bout bro n em talking hoe bout bro n em',\n",
              " 'crazy bitch hilarious',\n",
              " 'know shoe dirty fuck whatever bitch call like negro one first thing look shoe dog',\n",
              " 'thrill billy hillbilly heart billyraycyrus hahahahaha jesus murphy',\n",
              " 'call bitch makennam',\n",
              " 'handle liquor bitch handle meeedd chief sosa',\n",
              " 'chase dude chase bitch edgar bautista',\n",
              " 'love hoe baby forever',\n",
              " 'dont even need picture tamar bitch beat every picture',\n",
              " 'dont hoe',\n",
              " 'found new way chug open mouth alot shitallysays',\n",
              " 'fucking hate bitch much wanna smack face tongue kiss',\n",
              " 'got bitch set like jada picket queen latifah riding round niece bitch titi',\n",
              " 'got sister told stop calling woman bitch',\n",
              " 'guess night bitch die stewie nigga',\n",
              " 'bitch bitch bitch eating halibut iamyoungroc freshrhymes jerksquad slowstir',\n",
              " 'lady love married still wanna bang sex bitch troubadour probably',\n",
              " 'heard looking candy man bitch',\n",
              " 'hope get mad lady call bitch bitch bc know name individually katt williams letmicahdown',\n",
              " 'got number bitch boy',\n",
              " 'know shit eatin grin either fucked girl dream sold car know faggot sell',\n",
              " 'older men cause mature supposed fool u bitch',\n",
              " 'prolly leave bitch cup hand yo hand hand',\n",
              " 'said like taste like wolf pussy even know taste like',\n",
              " 'taught eat pussy cut hair taught eat pussy hair name movie',\n",
              " 'used dress like cop oh really yeah right mad pussy really yes never forget',\n",
              " 'went jail flock amp came home wit strike went jail bitch came home dike yg',\n",
              " 'fuck u u stand u dizzy bitch two unique amp separate phrase overheard relative saying younger',\n",
              " 'woke like thi bitch go back bed',\n",
              " 'would rather call bitch sir manager',\n",
              " 'beat pussy hard',\n",
              " 'slit throat neck http co chffsdeddd',\n",
              " 'funky as honkey jtimberlake shout macklemore tonight cabaret jt tour',\n",
              " 'comparing kfc pussy maxon maxoff',\n",
              " 'downloading new personality ordering new face bitch love goddamn axl rose yelling sex robot',\n",
              " 'feelin like malcolm middle bitch surround miss em',\n",
              " 'gonna piss dimple soni stop wasting prayer trash team lol',\n",
              " 'probably main bitch chocolate dipped cinnamon apple',\n",
              " 'sick shit man jonniesantana sit bitch as fed bro rt sbaby life geno threw yet another pick smh',\n",
              " 'sorry fucked yo bitch really dig nigga kingl',\n",
              " 'ibs irritable bitch syndrome',\n",
              " 'love hide yo bitch keep shorty wizkhalifa',\n",
              " 'talk back getting pussy http co vgnwcfgvsj',\n",
              " 'bad bitch put hand high every girl room start waving hand around',\n",
              " 'imma tie bitch basement donkey fuck as two week straight hahahahahahahahaha centmovie beforeiselfdestruct',\n",
              " 'mind gotta dumb hoe anthem',\n",
              " 'albino mexican dad asian',\n",
              " 'take true directioner accept larry know bitch fan like make boy cry thankyoupaulforconfirminglarry',\n",
              " 'allegation u bedroom u see word naive amp blind bitch know ur husband cheated u ramona dumb',\n",
              " 'never late tag bitch cyfyre',\n",
              " 'dyke hunter dyke dyke http co lgtw awmeh',\n",
              " 'julia robert ho laurengardner nottinghill',\n",
              " 'follow yellow brick twitter',\n",
              " 'lmfaoooooooooooooooooo bb brook pussy good mama like guess gotta go mama',\n",
              " 'lol cripple wendy davis rt mailonline scientist create remote controlled chick study shy penguin http co mt b slod',\n",
              " 'let nip ahoy spank maybe',\n",
              " 'let kill cracker baby wtf hear wow',\n",
              " 'like correct wrong pimpin involve smackin bitch money',\n",
              " 'lmao blackbeauty rt sbaby life pound cake look like pussy http co ufywcc xci',\n",
              " 'lmao swilla lo rose adidas lighter phone shit retarded',\n",
              " 'mam ren e doet haar rol net ze ongesteld wat ongesteld van dat soort vragen waar je denkt hoe leg ik die weer uit',\n",
              " 'maybe want friend maybe stupid bitch never know make cum',\n",
              " 'mine play dmx kirk franklin smh justcallmebrit well neighbor ghetto get like beat kid',\n",
              " 'grandma used call porch monkey time come think refer broken bottle nigger knife',\n",
              " 'momma told tell mind yoooo damn motha fuckin business knowin bitch',\n",
              " 'nip freeeeezing okay slicing bra',\n",
              " 'twitter hacked pussy admit said want act like never said',\n",
              " 'nah girl gon able make tight since rus loss job back like damn bitch really',\n",
              " 'nah nomeek justmilz yo thought photoshopped face faggot smmfh hate yall http co e fkq q',\n",
              " 'new flame song yr lol bitch super run like',\n",
              " 'nigga always yelling fuck bitch get money meanwhile broke still want bitch',\n",
              " 'nigga pressed pussy eeeeeen nothin',\n",
              " 'bitch nan',\n",
              " 'boat hoe please thanks mom',\n",
              " 'ovo allthingsfresh amp kendrick lamar still trash',\n",
              " 'top pregnant as sorry hoe aint never got money even water broke talltrappin riptallt',\n",
              " 'couple red sox gotten past first base dying laughing maybe yank need teach game',\n",
              " 'people time aryan race stand say mongerls turn world ghetto slum',\n",
              " 'pistol whip dickau shoot yo bitch club sometimes freestyle freestyle okay',\n",
              " 'rt please thanks bmorepocahontas pierced pussy come across timeline',\n",
              " 'remy machiavelli send shot ya belly bitch',\n",
              " 'roberto one nasty hoe',\n",
              " 'sorry jb fan really justin come back top comment justin timberlake video million view son fucking bitch',\n",
              " 'searching incredible story white man quest find ingredient necessary make caribbean jerked chicken redneck land',\n",
              " 'selling soul material wish fast car bitch tupac smile remix',\n",
              " 'shake bear aka two redneck sex dead bear',\n",
              " 'shall compare thee summer day summer day bitch',\n",
              " 'gotta shape pussy lip tho postprettypussy whole wheat organic pussy http co kq r z g',\n",
              " 'said wigga man rich take du rag http co jb j zsbam',\n",
              " 'bitch anyway',\n",
              " 'florida got sniff test swamp pussy',\n",
              " 'slow fuck bitch know live classy young lady',\n",
              " 'good football player still act like nig',\n",
              " 'stop pussy son shove needle heart afterearth',\n",
              " 'stop looking u go eat pussy yuppie fuck',\n",
              " 'takin straight dirt finger pussy know put dick xernee',\n",
              " 'bro move hoe move',\n",
              " 'girl plain looking borderline ugly amp chunky hey least got nice smile amp great personality',\n",
              " 'devil grows inside heart selfish wicked white brown yellow black color restricted',\n",
              " 'water yellow healthy student',\n",
              " 'hoe loyal',\n",
              " 'hoe keep callin pickin',\n",
              " 'sour apple bitter bitch fuckin wit em',\n",
              " 'faggot jonniesantana oriole petty fuck got swept outta bitch',\n",
              " 'ghetto as band get snuck',\n",
              " 'division trash nomeek justmilz saint gon win nfc south watch',\n",
              " 'fan waited bitch nigga hated old hoe dated look mama http co snry vyb',\n",
              " 'ghetto motherfucker missy elliott',\n",
              " 'recipe call leftover brownie hell leftover brownie brownie eaten yet ericanadine',\n",
              " 'ratchet broad represent white as talk trash cause racist shit black',\n",
              " 'trust noneeee bitch',\n",
              " 'twitter twitter bitch twitter life',\n",
              " 'two road diverged yellow wood chose one j tunheimr robert frost giant',\n",
              " 'u got k bitch nigga al haymon antonio tarver',\n",
              " 'uh uh empty heart empty bottle yellow cab would like catch cuz yo latest ex made u mad',\n",
              " 'used girlfriend got hoe lookin good girl fuckin low',\n",
              " 'virgin pussy regular pussy oomf pussy',\n",
              " 'whaaaaaat lmaooo cromotoasted creepgoddess luv u fat bitch cuz got big ole titty phat booty',\n",
              " 'walked bitch like nigga made',\n",
              " 'hate nigger hate faggot hate spic kkk rally',\n",
              " 'queer hut like butt',\n",
              " 'well bitch biology said',\n",
              " 'betysweetcocker gotta report spam rt sbaby life lady rt head game better pussy',\n",
              " 'im done hoe pas squad g',\n",
              " 'fuck callin jiggaboo nigga',\n",
              " 'people think gay marriage okay beyond sorry want future son seeing fag walking street holding hand',\n",
              " 'u little bitch chris six bitch allisons mom',\n",
              " 'would want play pussy jimmyfallon dead snl',\n",
              " 'would wanna green ranger evil duh bitch',\n",
              " 'would want pussy side burn thats good question hy ung hahahahaha',\n",
              " 'shank bitch ceviche',\n",
              " 'work tydollasign get rough day hahaha hoe',\n",
              " 'wow bitch yes already established anything else say',\n",
              " 'forget brand new baby girl home bitch cooky burning',\n",
              " 'yah said word mtzra ym egyptian people ysrah al inheritance kushite ethiopian',\n",
              " 'yaoooooooo yea im jamaican mawnin yardie',\n",
              " 'yo bitch horn tryna shoot porn kingl shirt worthy tony',\n",
              " 'yo sublet pussy shitfahdsays',\n",
              " 'yo foot smell like pus whut like flower bitch omg',\n",
              " 'yo mama bitch rt theacetjshow one sentence ended relationship',\n",
              " 'gunna shit spear chucker',\n",
              " 'bitch favorite response long text',\n",
              " 'yo boy pussy cat',\n",
              " 'cunt',\n",
              " 'pull pussy dodge collect panty alright stormy jake',\n",
              " 'take someone ghetto take ghetto',\n",
              " 'like u colored folk colored white fuck',\n",
              " 'got hella hoe http co zn gstpc',\n",
              " 'hit light line toco bell morning diana back house miracle charlie dianaaaxo',\n",
              " 'look cute today really helll swerve hoe',\n",
              " 'look like little bird help get dressed morning',\n",
              " 'ol trout mouth as bitch deeeeaaaadd',\n",
              " 'talk like fag shit retarded cool scro lot tards living total kick as life',\n",
              " 'took land could make retarded diaper sure use image cool redskin nfl concussion joke',\n",
              " 'garden rose bitch weed',\n",
              " 'fucked shit dumb as cunt go post picture flat as titty ig slut',\n",
              " 'queer',\n",
              " 'homeboy looking bad giving cash hoe',\n",
              " 'teeth like star aww thanks yeah yellow far away',\n",
              " 'yup fuck em aloha hoe playing like trash rt sbaby life clipper wanna play lol',\n",
              " 'time hoe get lol ariana mom say u',\n",
              " 'bitch chellyhernandez',\n",
              " 'ayo even kill handicapped crippled bitch look scalp real close see triple six',\n",
              " 'bitch freak shit',\n",
              " 'bitch vagina little resilient rosestokoe',\n",
              " 'love nah bitch love',\n",
              " 'pussy root drama attribute put head mama',\n",
              " 'call keyshawn johnson cause im catchin erry hoe',\n",
              " 'captain save hoe annoying phrase',\n",
              " 'day judgement everybody gonna looking big jumbotron watching fuck majjinn buu bitch',\n",
              " 'let side bitch settle might headbutt evelyn',\n",
              " 'dont show bitch unless look like dolly parton',\n",
              " 'fuck pussy as hater go suck dick die quick someone youtube comment think good friend',\n",
              " 'hick raver venn diagram large intersection',\n",
              " 'hoe suck dick cu look like john stockton hit em wit choppa luke fatherrr lilbthebasedgod',\n",
              " 'wasnt work place id deck aye fucking right give tyson combo nd end uppercut shut fuck bitch',\n",
              " 'suck dick dip keeper true redneck woman kim dad',\n",
              " 'im gonna rip bitch apart rip apart lol',\n",
              " 'britney bitch bible leviticus http co zoakn zlhm',\n",
              " 'nigga bitch bitch as nigga dike as hoe black as bright as hoe fag tag scally wag',\n",
              " 'pussy tryna go studio call mufuckin crib like god yo word god bus yo shit god word',\n",
              " 'oh ya hoe think cute skin tight cat suit assuming body boomin dispute',\n",
              " 'omg bitch fucking stupid swear blah blah blah week later omg ilysm bae ur best friend swear',\n",
              " 'way fuck bitch name lord mr race',\n",
              " 'poor whitey http co ukkeyznz',\n",
              " 'riding bros still trust hoe',\n",
              " 'weekend going fabulous naa man seeing nae cunt koed second flat hate u fuckgm',\n",
              " 'whatever good one abraham lincoln quote yall hoe',\n",
              " 'guy say latinas gt mean kim kardashian looking girl bitch shaped like mini fridge amp smell like tortilla',\n",
              " 'rapper say twat make feel weird',\n",
              " 'better pipe pussy esex ruskii lmao wth even mean',\n",
              " 'fucking pussy even beat dick angry youtube comment',\n",
              " 'cunt right rq',\n",
              " 'son bitch moment rain forget car window',\n",
              " 'thingsthatgetsonmynerves needy hoe ratchet hoe sideline hoe beggin hoe dumb hoe looking love facebook hoe',\n",
              " 'get hit bitch campus want',\n",
              " 'personidbitchslap khamruz fa blowin tl like bitch spare tire leavin dairy queen',\n",
              " 'faves rt grahamorama snoop justin much fun charlie wilson tribute betawards http co c nhwublxn',\n",
              " 'taughtme pussy feel',\n",
              " 'wordsaftersex pussy bitch',\n",
              " 'azmonsoon lot rain bad enough wash away teabagger racist white trash state tcot teaparty azflooding',\n",
              " 'alexfromtarget get million retweets chrisfromwalmart cant even get bitch text back http co l xtpsig z',\n",
              " 'alexfromtarget bitch wet lmmfao',\n",
              " 'anncoulter still calling obama community organizer syria well still cunt well',\n",
              " 'asagiraffes pussy http co yaatsf tu',\n",
              " 'askdems embarrassed charlie rangel remains caucus',\n",
              " 'bob bass bitch hankjohnson bitch dick fish dock',\n",
              " 'breaking ap call mass governor race charlie baker watch live coverage wcvb streaming online http co hy evoat',\n",
              " 'bangbangbirdgang ya bitch fruit loop',\n",
              " 'bartending becomes real bitch bartender way way taller bar designed holy back pain',\n",
              " 'bestsongtohavesexto bitch love sosa bangbang',\n",
              " 'bigbird made gay couple yes gop world bird would existed since creator would jail sodomy',\n",
              " 'bitchslapthursdays nite pure passion door open watching game bitch http co iggohwewfh',\n",
              " 'blessjesus amos two walk together except agreed',\n",
              " 'blessjesus amos hate one upholds justice court detest one tell truth',\n",
              " 'blessjesus crown head sole foot',\n",
              " 'blessjesusair matthew look bird air yet heavenly father feed much valuable',\n",
              " 'blessjesuslove happy belated sixty fifth birthday aunt mary agnes strong',\n",
              " 'bout gocrazy aintnolevelz disshit hungrier phat ho diet ig http co nzubuc qpr',\n",
              " 'burnnotice fi shoot bean bag round guy hurt like bitch',\n",
              " 'california full white trash',\n",
              " 'california full white trash moved oklahoma',\n",
              " 'celebrityleakedphotos yeah gt know feel knowing nsa phone quit whining like muslim bitch',\n",
              " 'christianbale kissing moses as fight god otherwise might fucking dead gt retarded as actor faggot',\n",
              " 'commonquestioniget uou ghetto',\n",
              " 'cowboy bitch cowboysnation another great win ilove team',\n",
              " 'crack whip cracker',\n",
              " 'dtla trash non european allowed live',\n",
              " 'duh transhuman possibly tucking penis emperorira bitch got man boob http co vjvxwlrjop',\n",
              " 'dearfeministmen easier way get pussy w sacrificing man hood best dont include losing ur self respect',\n",
              " 'degenerateartist fuckin around allah retard crest gt got blessed jesus next fake as text gt',\n",
              " 'degenerateartist card gt french muslim retard gt expect demand child bride yard cuz got man dick gt',\n",
              " 'degenerateartist bitch walk back word gt witch question turd gt glitch evolves absurd',\n",
              " 'degenerateartist know word gt bo jingo dangle fan slang ho ting pang lick drum swing flick alarm bic gt hear fire',\n",
              " 'degenerateartist sniff whiffy ball involuntary cuz fairy walk downtown hairy climatechange scary sense hillbilly sneeze gt',\n",
              " 'derekjeter lifelong yankee man miss firstballot unanimous',\n",
              " 'dutch farmer white trash',\n",
              " 'dutch people live outside newyorkcity white trash',\n",
              " 'earlybird early morning sunrise dawn bird thebird jerryreed kansa city http co kuvq upwuw',\n",
              " 'ebola great thought panic bird flu bad really got time',\n",
              " 'ebola great metaphor gop teaparty policy eat vital organ host dy tcot teabaggers',\n",
              " 'explainananimeplotbadly boy monkey tail grows savior futuristic yet old earth',\n",
              " 'fact rt keyshbechillin kanye best good piece pussy fuck',\n",
              " 'fact female tweet dayum day r hoe need attention ijs wontgetme',\n",
              " 'femalelogic worse jig convinced',\n",
              " 'firecashman root royal october yankee',\n",
              " 'freeelchapo trending cu french montana bitch as fuck think selling drug cool lamest poser',\n",
              " 'freeballoutpartypart bitch going mo week',\n",
              " 'freshmanadvice hoe get traphouseeeeeeee',\n",
              " 'glory isaiah mom asked wanted brownie said thanks said fasting',\n",
              " 'holidayseasonlive shyglizzy ply shy glizzy feat ply free tha gang http co pygosk qcp',\n",
              " 'happycolumbusday america karlmarx would never thought sharing colonialism injun',\n",
              " 'happycolumbusday hate sound peta callous buffalo lot worse injun',\n",
              " 'havok one bad bitch wanna mess tna impact',\n",
              " 'hellyeah rt bacongawd rt huffingtonpost happy fall pumpkin spice oreo http co prvskante http co hleym yc',\n",
              " 'hellobrookland monroestmarket opening serving free sample cider vegan slider brownie http co bw uytlqu',\n",
              " 'holyspirit joshua every place sole foot shall tread upon given unto said unto moses',\n",
              " 'honestyhour middle school hoe used call mandingo warrior',\n",
              " 'idonthavetimefor ratchet hoe',\n",
              " 'ihopesomeday hoe find relationship instead ruining others',\n",
              " 'istandwithrand wise rino pussy real leader like rand cruz lee bachmann etc actually exist fight go home teaparty',\n",
              " 'iu straight nation college soccer champion wow hoosiernation hoosier',\n",
              " 'iu make honorary student id way cooler international student football card hoosier',\n",
              " 'ifthepurgewasreal best prostitute madam ever hey got pussy broke right lmao jk',\n",
              " 'ifwedate eat da pussy better lesbian',\n",
              " 'inmiddleschool fat hell band faggot thank god played sport th grade didnt stay band',\n",
              " 'indigenouspeoplesday right redskin lot queen right nomg sofunny',\n",
              " 'indigenouspeoplesday haha fuckin retarded commie hunter biden love snortin pygmie fairy dust liberal',\n",
              " 'iowa full white trash',\n",
              " 'iraq gov troop handed severe defeat isi saqlawiya chatter soldier lost amp jihadis raving',\n",
              " 'jesuschrist straight gt faggot killed period sonofgod gt',\n",
              " 'kanyeshrug lol shainarakia thots like rt smco shainarakia great thing bitch offer',\n",
              " 'lingo niccas tryn talk like',\n",
              " 'mentionadislike hoe thinkin bad even tell bitch calm u average',\n",
              " 'messagetomyfuturespouse u better cook clean bitch ill give u money cleanin dish makin plate',\n",
              " 'minnesota full white trash',\n",
              " 'myunpopularopinion spanish bitch suck dick baby already fine dressing slutty',\n",
              " 'nl q u e e n reminded still get janelle monae perplexed people think queer',\n",
              " 'np century fob',\n",
              " 'nationalcatday sure celebrate billion bird death blame climatechange fuckin commie',\n",
              " 'natitude okay going say comb yer beard lol wiggers',\n",
              " 'nowplaying bt feat torus amos blue sky radio edit thearrow http co r wuxa jb',\n",
              " 'nowplaying great white bitten twice shy thearrow http co r wuxa jb',\n",
              " 'nowplaying ian hunter bitten twice shy thearrow http co r wuxa jb',\n",
              " 'nowplaying door wasp texas radio big beat thearrow http co r wuxa jb',\n",
              " 'oomef yeah kno pussy whipped nigga putting ring',\n",
              " 'onlyinamichaelmyersmovie bitch running hundred meter dash niqqa who actually taking time walking amp u still get killed',\n",
              " 'pdplive november th get early bird ticket http co xcl kyiuv lifeofshan http co zcnp ljoow',\n",
              " 'pacernation road perfect way continue iubb finished nba pacer indiana hoosier',\n",
              " 'peopletoavoid valerie jarrett control reflex bitch slap',\n",
              " 'peoplewhomademy little brother hate admit dirkalisic know still lil bitch though fuck',\n",
              " 'qtna rt major k bitch gon breast feed wit nipple ring',\n",
              " 'questioniaskmyself slapping hoe tuh solve something ima leave alone never usually listen',\n",
              " 'radiofreenorthwest covington read response amp mock fbi andy real politics liv awakening gretchen http co jyhancpr',\n",
              " 'rayrice bitch justsaying',\n",
              " 'rayrice still bitch nfl got one wrong woman fan livid noexcuses',\n",
              " 'reasonswecantbetogether u talkin nig smashed da homies',\n",
              " 'reasonswhywedontgetalong hoe stop focusing sucking dick focus getting rich',\n",
              " 'rebelscience sharing whaddup gt cloud hogging windturbines like fuckin gasbag son bitch',\n",
              " 'rebelscience using actual woman genetic engineering lab natural clone something faggot rome',\n",
              " 'redsox focus oriole knocked last year hatred yankee um teen year lol',\n",
              " 'remake granny dcyoungfly dirtymoney teamignat hoodcomedy damn bitch bab big http co mgr pz ij',\n",
              " 'royal fantastic ready tomorrow sweep disposed yankee ever except month',\n",
              " 'royal milwaukee let yost go wished cause suck guy win lose yankee fire girardi yost',\n",
              " 'ruinacomedian midnight charlie lapdance',\n",
              " 'ruinadessert midnight fairy queen nomg gt fucked obama panty',\n",
              " 'shoutout everybody follow nicca',\n",
              " 'shoutout exit niccas salute',\n",
              " 'shoutout macktown niccas',\n",
              " 'shoutout exit niccas realniccasalute',\n",
              " 'signsofcockblockin gt rt tribexyunglion niggahs telling hoe talking get fuckniggahs',\n",
              " 'skating trash',\n",
              " 'slightlyadjusted rt capotoheaven alls nigger wanna fuck tweet drink pineapple soda day',\n",
              " 'somethingigetalot asian black hawaiian gay retarded drunk',\n",
              " 'southcarolina full white trash',\n",
              " 'splashgang pussy n z ay benny balboa tried tell n z',\n",
              " 'stopwhitepeople rt abc case west nile virus infection reported orange county year dead bird found carrying virus',\n",
              " 'tbt love forever ling ling brittneycordova http co kecfnjyrwe',\n",
              " 'theboondocks nicca',\n",
              " 'truth rt notashley david charlie brown scandal',\n",
              " 'son bitch moment finally get bed bladder decides time piss',\n",
              " 'son bitch moment turn radio favorite song end song',\n",
              " 'son bitch moment walking house dark stub little toe wall',\n",
              " 'thatfuckmemoment leave car window rain car look like hurricane katrina ran bitch',\n",
              " 'themostannoyingthingsinlife people never happy bitch n moan time',\n",
              " 'thingsiwillteachmychild play deez nigga n bitch dat snake',\n",
              " 'thingsnottodoonafirstdate give da dick u gotta half stroke da pussy bc u dump dick dat bitch gon become extremely anoyin',\n",
              " 'tjohngang lil bitch follow http co sd uht dny',\n",
              " 'tomyfutureson fuck dem hoe better love dem hoe',\n",
              " 'trayvonmartin referred zimmerman creepy as cracker racist thug',\n",
              " 'tweetlikepontiacholmes pontiac sprinkler nigga nigga nigga nigga spic spic spic spic nigga nigga nigga nigga',\n",
              " 'tweetlikeyourbestfriend made bitch lilkrebs',\n",
              " 'umightnotgetin fucc nicca beerandtacos wethelastonesleft http co fv cv z',\n",
              " 'vinitahegwood get job naacp ag hear like diversity tolerance long cracker tcot',\n",
              " 'virginia full white trash',\n",
              " 'wearerepublicnotregime potus bo violated usa sovereignty w open border jihadis criminal diseased haitian american impeachobama',\n",
              " 'westvirginia full white trash',\n",
              " 'whatimcraving peanut butter oreo lt',\n",
              " 'whatwouldyouchangeaboutyourpast hoe wasted time',\n",
              " 'whyihateinstagram make bitch cheat four point scale',\n",
              " 'worldseriesgame hunter penny annoying red sox player shave fool take vyvanse yankee',\n",
              " 'yankee',\n",
              " 'yankee firecashman want arod back',\n",
              " 'yankee jeter let play entire inning fitting',\n",
              " 'yankee sec robertson guy fantastic sec pitcher',\n",
              " 'yankee astros mccarthy outduels keuchel series finale http co hijjauktjn',\n",
              " 'yankee nine straight hit price night',\n",
              " 'yankee damn directtv blackout yankee game freaking walk killing satellite douche',\n",
              " 'yankee damn well joe move bullpen really helped',\n",
              " 'yankee complaining royal win lose game showed heart al ride die flex zone earned',\n",
              " 'yankee went gold cruz sound upper lower body strength hmm hr hitter say word',\n",
              " 'yankee royal fire sale want whole team leave gardner tanaka rest please go along joe cash',\n",
              " 'yankee nice bounce back michael kay gotta keep going',\n",
              " 'yankee pineda needed great play',\n",
              " 'yankee primo got home tank mlb finally winning even better time get serious sept call time',\n",
              " 'yankee got beaten thug',\n",
              " 'yankee take three game motown callin mlb',\n",
              " 'yankee wasted nu ez season ray mlb',\n",
              " 'yeswedid start building windturbines fuckin big kill whole flock bird one go gt',\n",
              " 'yeswedid tattoo bitch corrupt many men possible egypt cattle prod vote gt',\n",
              " 'youwillnotbetakenseriouslyif proud white trash kedollarsignha',\n",
              " 'agreed rt oliviamrose badd one idk mixxed bitch really tho',\n",
              " 'anywere thecooleyshow la palm tree great weather else horrible weather bitch',\n",
              " 'bad as local bitch',\n",
              " 'boom bitch',\n",
              " 'bslfe bitch pullup st washington space http co h hv h wh',\n",
              " 'creamteam leaving hoe w cockbreath',\n",
              " 'drunk trash trashed wasted draught horse http co uvwkhpeswh',\n",
              " 'faggot killed jesuschrist gt hello whatever go ahead gaymarriage pharaoh pocket gt',\n",
              " 'faggot merely scientific indicator something wrong gt celebrate unique indiviuals cancer gt',\n",
              " 'firefighter job white trash',\n",
              " 'foxnews cut away democrat talk claim fair balanced lmao network full teabaggers liar',\n",
              " 'gouache inktober oldpainting mt tiki wahine surf monkey bright happysunday peace wishing http co l hik iz',\n",
              " 'honestyhour love hoe',\n",
              " 'honeybadger bitch',\n",
              " 'hoosier fan cody zeller nominating year nba draft iubb',\n",
              " 'illneverunderstandwhy anyone jersey shore famous go guido shitbag mean money family',\n",
              " 'inktober twentysix gouache mt snappy pappy bitch x good thing sable paintbrush http co gybei mkl',\n",
              " 'inners still hanging yankee need win nfl sunday',\n",
              " 'iubb suiting tonight indiana iu ncaa hoosierdaddy hoosiernation hoosier',\n",
              " 'klokus bitch nose pierced http co ia nx zr',\n",
              " 'longhair care got gayboyproblems everywhere bitch champ totally full http co qia qgmwh',\n",
              " 'metal honky',\n",
              " 'milesthompson goauche wetback ca http co g ze bqlpg',\n",
              " 'morningjoe prove wrong righties liberal use fact con use emotion make decision fact damned teabagger motto',\n",
              " 'mt commission gouache tiki wahine monkey tubed surfing wavesliding waterwalker notkook http co vii smgrm',\n",
              " 'mt goauche monkey oldpainting vinyl jazz lounge http co hueh hcxx',\n",
              " 'mt browngal gouache monkey tiki http co kfhj lwhbs',\n",
              " 'nationaldoughnutday bitch get http co fjforyy e',\n",
              " 'nowplaying witcha bitch pussy pussy inda hood ona sofa wit plastic',\n",
              " 'np shy glizzy awwsome remix feat chainz amp ap rocky via spinrilla http co owxtdrkwbc',\n",
              " 'oomf get chilling till da bitch hit',\n",
              " 'pause nigga bitch tho rt cornerboyp boy niggaz b bitch made u cud kiss em n da mouth',\n",
              " 'philhughes yankee nyy better ur whole team',\n",
              " 'porn android iphone ipad sex xxx anal anal gaping tranny play panty nylon part http co otesnwmx',\n",
              " 'porn android iphone ipad sex xxx anal bbc anal creampie bitch http co xneg mnrk',\n",
              " 'porn android iphone ipad sex xxx anal blonde tranny as fucked http co arx qjxz',\n",
              " 'porn android iphone ipad sex xxx anal hardcore british queer anal pounding http co lrueixmy',\n",
              " 'porn android iphone ipad sex xxx bbw brazilian bbw babe drilled pussy as http co z ksrfpmz',\n",
              " 'porn android iphone ipad sex xxx babe ebony babe pussy http co mxbxezqxr',\n",
              " 'porn android iphone ipad sex xxx beach caught girl rubbing pussy nude beach http co h lgitfyie',\n",
              " 'porn android iphone ipad sex xxx bigtits cute preggie slut big tit play swollen pussy http co itcpebcem',\n",
              " 'porn android iphone ipad sex xxx close another pussy close http co hbjdgvenxa',\n",
              " 'porn android iphone ipad sex xxx closeup squirting pussy fingered asshole http co bkyeouwwv',\n",
              " 'porn android iphone ipad sex xxx closeup amateur pussy player milf close http co uhl dhhu',\n",
              " 'porn android iphone ipad sex xxx closeup cumshot beauty pussy closeup http co uonsdrauv',\n",
              " 'porn android iphone ipad sex xxx closeup pussy fuck close http co dvazwlq q',\n",
              " 'porn android iphone ipad sex xxx creampie young japanese girl hairy cunt cre http co l q moggr',\n",
              " 'porn android iphone ipad sex xxx desi spicy oriental paki brunette suck un http co orp pomf',\n",
              " 'porn android iphone ipad sex xxx desi paki http co xxcdqvzi',\n",
              " 'porn android iphone ipad sex xxx desi paki http co cofgrtw br',\n",
              " 'porn android iphone ipad sex xxx ebony ebony texas bbw big deep pussy http co dbbxsow',\n",
              " 'porn android iphone ipad sex xxx erotic erotic wild tit pussy fucking http co hkc j c',\n",
              " 'porn android iphone ipad sex xxx facial blonde tranny whore get rammed facialized http co kd nu tmwz',\n",
              " 'porn android iphone ipad sex xxx fisting dude fist wife big pussy http co snfaf uxxb',\n",
              " 'porn android iphone ipad sex xxx fisting lovely sound fisting loose pussy http co pmagspkud',\n",
              " 'porn android iphone ipad sex xxx fisting whipped cream fisting http co b jcmctewq',\n",
              " 'porn android iphone ipad sex xxx hairy year old hairy pussy cumming finger http co kvgoxkn vg',\n",
              " 'porn android iphone ipad sex xxx hairy hairy florence shove dildo hairy red pussy http co dm fpcb',\n",
              " 'porn android iphone ipad sex xxx hairy hairy pussy http co doibskt',\n",
              " 'porn android iphone ipad sex xxx hairy hairy pussy http co ntg b qdmx',\n",
              " 'porn android iphone ipad sex xxx handjob hand job cum rubber pussy http co zgcnmr kla',\n",
              " 'porn android iphone ipad sex xxx hiddencams amateur boy fucking bitch hiddencam http co bt c qqctd',\n",
              " 'porn android iphone ipad sex xxx hiddencams candid pussy shot hidden c http co ikpj etz',\n",
              " 'porn android iphone ipad sex xxx homemade home made wife rubbing pussy http co ldb afwvdm',\n",
              " 'porn android iphone ipad sex xxx homemade using submissive bitch outdoor home made amateur http co fu aggzhqd',\n",
              " 'porn android iphone ipad sex xxx italian baby pussy http co ajdbjlc',\n",
              " 'porn android iphone ipad sex xxx japanese pretty young japanese girl hot cunt fucked amp c http co wt ssof rw',\n",
              " 'porn android iphone ipad sex xxx japanese young japanese girl hairy cunt creampied http co rg pobakkd',\n",
              " 'porn android iphone ipad sex xxx korean korean girlfriend pussy http co od mquudnn',\n",
              " 'porn android iphone ipad sex xxx latina latina chick get pussy pumped http co dhwui ard',\n",
              " 'porn android iphone ipad sex xxx latina latina mature big pussy http co icvcz bk',\n",
              " 'porn android iphone ipad sex xxx latina latina tight pussy http co rdaonqvr h',\n",
              " 'porn android iphone ipad sex xxx lesbian lesbian girl eating pussy http co ht szl b',\n",
              " 'porn android iphone ipad sex xxx lingerie bitch lingerie getting wet cunt pounded http co jp r vpycb',\n",
              " 'porn android iphone ipad sex xxx masturbation hot black tranny mastu http co ofggmlxqaj',\n",
              " 'porn android iphone ipad sex xxx oldyoung old bitch plea hot looking young stud http co aidkdmztln',\n",
              " 'porn android iphone ipad sex xxx oldyoung german milf getting young old cock pussy http co kxhzjwg ii',\n",
              " 'porn android iphone ipad sex xxx smalltits small tit ghetto whore fucking stepdad http co ay grntouw',\n",
              " 'porn android iphone ipad sex xxx teen cutie lesbian teen toy slit http co z enjjwm',\n",
              " 'porn android iphone ipad sex xxx xxx hairy alicia silver amp tinslee reagan hairy pussy http co toljqdxee',\n",
              " 'porn android iphone ipad sex xxx xxx homemade pussy eating http co yuidrln k http co z gaiwllye',\n",
              " 'portlandia putabirdonit rt mightymouse xbox one would much cooler put bird',\n",
              " 'real rt imtoomuch rt lac rt weavuschrist rt tone tell gf hoe happy',\n",
              " 'realtalk hoe try get serious someone expect anything piece meat',\n",
              " 'redneck tow truck johndeere america http co ifinqwvrad',\n",
              " 'rejectedpeanutsspecials grape crackhead charlie brown',\n",
              " 'southcarolina highschool graduation rate near many uninformed teabaggers morningjoe',\n",
              " 'stateoftheunion would last min let president talk standing clapping bird',\n",
              " 'tbt bad bitch http co jc bkbe vt',\n",
              " 'tbt precious gook baby outtapocketjuju http co qjljj tk',\n",
              " 'tbt used good rapping ima bitch http co rv jijprd',\n",
              " 'tbt took likkle monkey jimmy http co lik xpz ez',\n",
              " 'teabagger state like mississippi opposed minimum wage child labor law union pro scab sweatshop work pretty much slavery',\n",
              " 'throwback bitch amp drinking mike bc sucked autumnmaye http co jfcthdedcz',\n",
              " 'tikiti rough mock base eventually ashtray tiki ti http co ze aqy',\n",
              " 'truefriendtuesday bitch drrrruuuu http co dsz vcysz',\n",
              " 'tweetlikelexi nah gonna sit gonna walk bitch',\n",
              " 'ultimatepickupline bitch get naked work time drunk',\n",
              " 'upper loving show morning chris directing conversation beautifully make teabaggers talk',\n",
              " 'vega bitch http co wbaqq vfpd',\n",
              " 'wallofthewasatch bitch',\n",
              " 'wcw bad bitch',\n",
              " 'wcw bitch autumnmaye http co n x fyvip',\n",
              " 'wrongfilmquotes everytime come kitchen kitchen goddamn refrigerator eatin pussy',\n",
              " 'xfactorau sick guy sing like pussy rock type men',\n",
              " 'youaremoreattractive u real bitch',\n",
              " 'bid go date zack morris oh dreamy son bitch',\n",
              " 'bud lites well shot bar tn plus giving away trip la vega cunt come visit bourbon st',\n",
              " 'torch drain cause either high lost one nigga finessed hoe fuckkkkk ittt',\n",
              " 'rt gottliebshow killer line sbnationnba josh smith dropped killer trash talk line kenneth http co c sjoupj',\n",
              " 'rt tan aaa rt peachdulce piece pussy http co bcwit nuz',\n",
              " 'rt m sadaclay love salad rt vianawf anyway fuck hoe eat salad',\n",
              " 'plus sheryl crow http co kywznotu',\n",
              " 'rt uboyrock every bitch n passenger seat dun fucked least one time',\n",
              " 'goalsminded true early bird get worm first',\n",
              " 'dirty whore love hoe love jesus watching',\n",
              " 'rt freegeezy hoe got school shirt sucking dick',\n",
              " 'rt mr quenchyagirl lotta fck nigga twitter really talking like bitch',\n",
              " 'rt prettydamamazin bitch started shooting party fuck new orleans',\n",
              " 'bitch giving back rub',\n",
              " 'never coon grew bokoo coon tho never coon shit tho',\n",
              " 'rt oeauxmar nigga smashing hoe hoe paying condo still yep fucboy',\n",
              " 'rt officiallyice guiltypleasure watching nigger fight youtube vine ig',\n",
              " 'rt pr ttyn like rest bitch waiting give fuck',\n",
              " 'rt wsbg rather called nigger uncle tom mark',\n",
              " 'rt str chazer bet bitch deaf mc lyte word treated like queen huh',\n",
              " 'hi ho http co fic fnrutz',\n",
              " 'rt kwagiheath one b tches gon end dead screen shot thinkn sh funny many niccas gon laugh b',\n",
              " 'congrats turned hoe housewife get shitty guy start singing hit first butthatsnoneofmybusiness',\n",
              " 'got ur bitch tip toeing marble floor',\n",
              " 'omg thinccin make laugh use stay talking shit rd period cute amp bitch',\n",
              " 'needa stop sucking dick hoe',\n",
              " 'rt ogbeard omg lil b followed yassss bitch follow everybody shut yo as',\n",
              " 'rt monique q byekandace hop hoe rt kekepalmer come kstills',\n",
              " 'lmao nigga let go half weed brownie laughing hard hell senior seminar',\n",
              " 'amp ho get trap hooouseee',\n",
              " 'ugh bitch love amp simply flawless remember cute peice hair hella short',\n",
              " 'pussy ride dick like jamaican gt amp',\n",
              " 'pussy http co mwxqnjm',\n",
              " 'rt dammithamm loyal pussy',\n",
              " 'bitch',\n",
              " 'important thing temporary bullshit lie fa bird kill',\n",
              " 'bossmobbe racist month fuck u honkey',\n",
              " 'gucci b rude shit amazinnana lol nice smco bitch aint worth quarter',\n",
              " 'rt lashana sinead mimi old covering titty sex bitch childish',\n",
              " 'rt theonlyreed lmfao rt tone watching porn amp beating amp yo homie text u amp show name banner faggot',\n",
              " 'bruh hoe gotta stupid',\n",
              " 'juggs somebody gonna die rt smco juggs there bitch njt setting lean tweet',\n",
              " 'jusdahl justkorey jusdahl boring sex nope lick side bitch face hittin back',\n",
              " 'mcdonavins course cooder nude trash life dmv expect',\n",
              " 'stomach pain like mufucka rt owipharaoh nigga rating bitch http co yflfubj po',\n",
              " 'bitch get stuff done http co gvfpk ah',\n",
              " 'fucc nicca yu pose pullin',\n",
              " 'maaaaannnn hope rt abrown vonshayeb get rid john legend looking charlie batch',\n",
              " 'mike call bird mikemastroccco',\n",
              " 'nigga sending screenshots bitch like stop texting cuh',\n",
              " 'white bitch think miley cyrus http co lffy hvcna',\n",
              " 'snapbackblac seen thot as bitch high top white',\n",
              " 'nicca gotta team full worsum hoe',\n",
              " 'rt tuneluciano hoe dm sayin never give dream fuckin fortune cookie as hoe fuck dm',\n",
              " 'rt dao dyke get pregnant mistake gt gt gt gt gt',\n",
              " 'rt gxdlyvisuals bitch know got game phone http co hyinfidw',\n",
              " 'bitch lrt',\n",
              " 'burnt pussy lip',\n",
              " 'said rt boythats aryah tl gotta chill pretty face challenge foolishness hoe agg',\n",
              " 'nah round molly callneeshcakey bitch nigga molly',\n",
              " 'played nigga smh sexualgifss bitch shady oh god http co vhc lqskg',\n",
              " 'lisforlex bitch go away subnorbot tat nsnapbacks lisforlex lisforlex tu puta madre carlosnoodles',\n",
              " 'shoota bitch mad af http co c w q',\n",
              " 'hate rt yumiyoko cyrus ho rookie slut getting cash date nope nope nope',\n",
              " 'rt mreeuh trying relax pussy shooting light beam http co ehbmr tko',\n",
              " 'rt smashavelli murda sucking bitch howdhow',\n",
              " 'bitch hobbit need let know right',\n",
              " 'folk bad talk trash',\n",
              " 'brittany bitch u dog man',\n",
              " 'rt karltonhinez itsnotharold smh bitch sellin as',\n",
              " ...]"
            ]
          },
          "metadata": {
            "tags": []
          },
          "execution_count": 19
        }
      ]
    },
    {
      "cell_type": "code",
      "metadata": {
        "id": "naLjp9FXtY5U",
        "colab_type": "code",
        "outputId": "a69d292c-c97a-432b-fb9b-625e9becd982",
        "colab": {
          "base_uri": "https://localhost:8080/",
          "height": 35
        }
      },
      "source": [
        "len(cleaned_tweets)"
      ],
      "execution_count": 0,
      "outputs": [
        {
          "output_type": "execute_result",
          "data": {
            "text/plain": [
              "24783"
            ]
          },
          "metadata": {
            "tags": []
          },
          "execution_count": 18
        }
      ]
    },
    {
      "cell_type": "markdown",
      "metadata": {
        "id": "LpAmyLoiVoZk",
        "colab_type": "text"
      },
      "source": [
        "**Final Preparation of Feature and Response matrix**"
      ]
    },
    {
      "cell_type": "markdown",
      "metadata": {
        "id": "M3aI77WVs6V5",
        "colab_type": "text"
      },
      "source": [
        "In the tweet column we are applying TF-IDF to convert text data into numeric features"
      ]
    },
    {
      "cell_type": "code",
      "metadata": {
        "id": "rHJgQCu_q2ex",
        "colab_type": "code",
        "colab": {}
      },
      "source": [
        "\n",
        "#applying the TfidfVectorizer for TF-IDF\n",
        "from sklearn.feature_extraction.text import TfidfVectorizer\n",
        "\n",
        "# taking the most frequent 25000 words and take combination of unigrams as a feature and then apply BOW\n",
        "tf = TfidfVectorizer(max_features = 10000,ngram_range=(1,1))\n",
        "\n",
        "x_part = tf.fit_transform(cleaned_tweets).toarray()"
      ],
      "execution_count": 0,
      "outputs": []
    },
    {
      "cell_type": "code",
      "metadata": {
        "id": "kzsRNMtXA_Cx",
        "colab_type": "code",
        "outputId": "98633372-dc0a-4e4e-af5d-f9a8c678f856",
        "colab": {
          "base_uri": "https://localhost:8080/",
          "height": 159
        }
      },
      "source": [
        "print(x_part)\n",
        "\n",
        "print(x_part.shape)\n"
      ],
      "execution_count": 0,
      "outputs": [
        {
          "output_type": "stream",
          "text": [
            "[[0. 0. 0. ... 0. 0. 0.]\n",
            " [0. 0. 0. ... 0. 0. 0.]\n",
            " [0. 0. 0. ... 0. 0. 0.]\n",
            " ...\n",
            " [0. 0. 0. ... 0. 0. 0.]\n",
            " [0. 0. 0. ... 0. 0. 0.]\n",
            " [0. 0. 0. ... 0. 0. 0.]]\n",
            "(24783, 10000)\n"
          ],
          "name": "stdout"
        }
      ]
    },
    {
      "cell_type": "code",
      "metadata": {
        "id": "laNKIPgRClYl",
        "colab_type": "code",
        "outputId": "d1eacfd1-75df-432d-c439-8f03f80b6fb0",
        "colab": {
          "base_uri": "https://localhost:8080/",
          "height": 372
        }
      },
      "source": [
        "# getting the unique words in colomns of x_part\n",
        "tf.get_feature_names()[:20]"
      ],
      "execution_count": 0,
      "outputs": [
        {
          "output_type": "execute_result",
          "data": {
            "text/plain": [
              "['aa',\n",
              " 'aaa',\n",
              " 'aaliyah',\n",
              " 'aap',\n",
              " 'aaron',\n",
              " 'aaronworthing',\n",
              " 'aaryneliza',\n",
              " 'ab',\n",
              " 'abbey',\n",
              " 'abby',\n",
              " 'abc',\n",
              " 'abcbirds',\n",
              " 'abdullah',\n",
              " 'abed',\n",
              " 'abel',\n",
              " 'ability',\n",
              " 'able',\n",
              " 'abo',\n",
              " 'abortion',\n",
              " 'abou']"
            ]
          },
          "metadata": {
            "tags": []
          },
          "execution_count": 23
        }
      ]
    },
    {
      "cell_type": "code",
      "metadata": {
        "id": "-ALrNmgeClBw",
        "colab_type": "code",
        "outputId": "480b4a94-6c79-4747-ef63-f9a7f75ba345",
        "colab": {
          "base_uri": "https://localhost:8080/",
          "height": 390
        }
      },
      "source": [
        "# getting all info. regarding BOW array\n",
        "tf.get_params()"
      ],
      "execution_count": 0,
      "outputs": [
        {
          "output_type": "execute_result",
          "data": {
            "text/plain": [
              "{'analyzer': 'word',\n",
              " 'binary': False,\n",
              " 'decode_error': 'strict',\n",
              " 'dtype': numpy.float64,\n",
              " 'encoding': 'utf-8',\n",
              " 'input': 'content',\n",
              " 'lowercase': True,\n",
              " 'max_df': 1.0,\n",
              " 'max_features': 10000,\n",
              " 'min_df': 1,\n",
              " 'ngram_range': (1, 1),\n",
              " 'norm': 'l2',\n",
              " 'preprocessor': None,\n",
              " 'smooth_idf': True,\n",
              " 'stop_words': None,\n",
              " 'strip_accents': None,\n",
              " 'sublinear_tf': False,\n",
              " 'token_pattern': '(?u)\\\\b\\\\w\\\\w+\\\\b',\n",
              " 'tokenizer': None,\n",
              " 'use_idf': True,\n",
              " 'vocabulary': None}"
            ]
          },
          "metadata": {
            "tags": []
          },
          "execution_count": 24
        }
      ]
    },
    {
      "cell_type": "markdown",
      "metadata": {
        "id": "vrC0rxmE-DH7",
        "colab_type": "text"
      },
      "source": [
        "We would add this x_part to our feature matrix"
      ]
    },
    {
      "cell_type": "code",
      "metadata": {
        "id": "bqgiwpuLucUj",
        "colab_type": "code",
        "colab": {}
      },
      "source": [
        "import numpy as np"
      ],
      "execution_count": 0,
      "outputs": []
    },
    {
      "cell_type": "code",
      "metadata": {
        "id": "SXzktCOZ9zZ3",
        "colab_type": "code",
        "colab": {}
      },
      "source": [
        "# we are converting feature matrix dataframe to a numpy array as x_array\n",
        "x_array = x.to_numpy()"
      ],
      "execution_count": 0,
      "outputs": []
    },
    {
      "cell_type": "code",
      "metadata": {
        "id": "Kx3C9bHRJs2h",
        "colab_type": "code",
        "colab": {}
      },
      "source": [
        "# horizontally stacking the feature matrix with the BOW array to complete our whole feature matrix\n",
        "X = np.hstack((x_array,x_part))"
      ],
      "execution_count": 0,
      "outputs": []
    },
    {
      "cell_type": "code",
      "metadata": {
        "id": "QEV6fm3MPR2y",
        "colab_type": "code",
        "outputId": "21fc72e3-d271-4fb5-bf77-9532a369461b",
        "colab": {
          "base_uri": "https://localhost:8080/",
          "height": 124
        }
      },
      "source": [
        "# All info of feature matrix \n",
        "print(\"length of feature matrix\",len(X))\n",
        "print(\"feature matrix shape\", X.shape)\n",
        "\n",
        "print(\"feature matrix size:\",X.size)\n",
        "print(\"feature matrix dimension:\",X.ndim)\n",
        "\n",
        "print(\"feature matrixt datatype:\",X.dtype)\n",
        "print(\"feature matrix item size of each elem:\",X.itemsize)"
      ],
      "execution_count": 0,
      "outputs": [
        {
          "output_type": "stream",
          "text": [
            "length of feature matrix 24783\n",
            "feature matrix shape (24783, 10004)\n",
            "feature matrix size: 247929132\n",
            "feature matrix dimension: 2\n",
            "feature matrixt datatype: float64\n",
            "feature matrix item size of each elem: 8\n"
          ],
          "name": "stdout"
        }
      ]
    },
    {
      "cell_type": "code",
      "metadata": {
        "id": "D_-fkdMNX0me",
        "colab_type": "code",
        "outputId": "26f29d44-93ca-4f51-fc29-bb1a2bd6ec88",
        "colab": {
          "base_uri": "https://localhost:8080/",
          "height": 55
        }
      },
      "source": [
        "\"\"\"\n",
        "X_feature_part = pd.DataFrame(x_part, columns = tf.get_feature_names())\n",
        "\n",
        "X_feature_part.head()\n",
        "X_feature_part.shape\n",
        "\n",
        "output -> (24783, 10000)\n",
        "\"\"\""
      ],
      "execution_count": 0,
      "outputs": [
        {
          "output_type": "execute_result",
          "data": {
            "text/plain": [
              "'\\nX_feature_part = pd.DataFrame(x_part, columns = tf.get_feature_names())\\n\\nX_feature_part.head()\\nX_feature_part.shape\\n\\noutput -> (24783, 10000)\\n'"
            ]
          },
          "metadata": {
            "tags": []
          },
          "execution_count": 31
        }
      ]
    },
    {
      "cell_type": "code",
      "metadata": {
        "id": "NUlT1uPskRwR",
        "colab_type": "code",
        "colab": {}
      },
      "source": [
        "\"\"\"\n",
        "Visualization of Feature matrix in dataframe form\n",
        "\n",
        "x - dataframe with col: ['count', 'hate_speech', 'offensive_language', 'neither']\n",
        "    shape : (24783,4)\n",
        "\n",
        "\n",
        "converting our BOW array into pandas dataframe\n",
        "X_feature_part = pd.DataFrame(x_part, columns = cv.get_feature_names())\n",
        "    X_feature_part :[word1,word2,......]\n",
        "    shape:(24783,5000)\n",
        "\n",
        "\n",
        "X_feature = pd.concat([x,X_feature_part], axis=1)\n",
        "    shape:(24783,5004)  \n",
        "\n",
        "\"\"\""
      ],
      "execution_count": 0,
      "outputs": []
    },
    {
      "cell_type": "code",
      "metadata": {
        "id": "YG6bB7H1LlBV",
        "colab_type": "code",
        "colab": {}
      },
      "source": [
        "# we are converting response matrix series to a numpy array as Y\n",
        "Y = y.to_numpy()"
      ],
      "execution_count": 0,
      "outputs": []
    },
    {
      "cell_type": "code",
      "metadata": {
        "id": "lIzccNh4mdgB",
        "colab_type": "code",
        "colab": {}
      },
      "source": [
        "\"\"\"\n",
        "Visualization of Response matrix\n",
        "\n",
        "y - dataframe with col: class\n",
        "    shape:(24783,1)\n",
        "\n",
        "\"\"\"    "
      ],
      "execution_count": 0,
      "outputs": []
    },
    {
      "cell_type": "markdown",
      "metadata": {
        "id": "s0eutC8gV2-z",
        "colab_type": "text"
      },
      "source": [
        "**Splitting the dataset for training and testing**"
      ]
    },
    {
      "cell_type": "code",
      "metadata": {
        "id": "W6rUlw9OVCmn",
        "colab_type": "code",
        "colab": {}
      },
      "source": [
        "#divide the dataset into train and test\n",
        "\n",
        "from sklearn.model_selection import train_test_split\n",
        "x_train,x_test,y_train,y_test = train_test_split(X,Y, test_size = 0.30 , random_state=0)"
      ],
      "execution_count": 0,
      "outputs": []
    },
    {
      "cell_type": "markdown",
      "metadata": {
        "id": "S-cWpdihnoFO",
        "colab_type": "text"
      },
      "source": [
        "Info of all train and test dataset"
      ]
    },
    {
      "cell_type": "code",
      "metadata": {
        "id": "Uvdv37gEnnBK",
        "colab_type": "code",
        "outputId": "489ed1cb-27f6-41dd-ac46-18f7112d3aee",
        "colab": {
          "base_uri": "https://localhost:8080/",
          "height": 159
        }
      },
      "source": [
        "# x_train\n",
        "print(\"length of feature train dataset\",len(x_train))\n",
        "print(\"feature train dataset shape\", x_train.shape)\n",
        "\n",
        "# x_test\n",
        "print(\"length of feature test dataset\",len(x_test))\n",
        "print(\"feature test dataset shape\", x_test.shape)\n",
        "\n",
        "# y_train\n",
        "print(\"length of response train dataset\",len(y_train))\n",
        "print(\"response train dataset shape\", y_train.shape)\n",
        "\n",
        "# y_test\n",
        "print(\"length of response test dataset\",len(y_test))\n",
        "print(\"feature response test shape\", y_test.shape)\n"
      ],
      "execution_count": 0,
      "outputs": [
        {
          "output_type": "stream",
          "text": [
            "length of feature train dataset 17348\n",
            "feature train dataset shape (17348, 10004)\n",
            "length of feature test dataset 7435\n",
            "feature test dataset shape (7435, 10004)\n",
            "length of response train dataset 17348\n",
            "response train dataset shape (17348,)\n",
            "length of response test dataset 7435\n",
            "feature response test shape (7435,)\n"
          ],
          "name": "stdout"
        }
      ]
    },
    {
      "cell_type": "markdown",
      "metadata": {
        "id": "1Z2EDsKAnI1r",
        "colab_type": "text"
      },
      "source": [
        "**Training the machine learning Model**"
      ]
    },
    {
      "cell_type": "markdown",
      "metadata": {
        "id": "kje4rCZ-poyI",
        "colab_type": "text"
      },
      "source": [
        " 1) Using Randon Forest classifier with single parameter "
      ]
    },
    {
      "cell_type": "code",
      "metadata": {
        "id": "gK_t3ATMVek6",
        "colab_type": "code",
        "colab": {}
      },
      "source": [
        "import itertools\n",
        "\n",
        "# creating a training object\n",
        "from sklearn.ensemble import RandomForestClassifier\n",
        "classifier = RandomForestClassifier(n_estimators=200,criterion='entropy')"
      ],
      "execution_count": 0,
      "outputs": []
    },
    {
      "cell_type": "code",
      "metadata": {
        "id": "PLpOIgvcrD6x",
        "colab_type": "code",
        "outputId": "08f8bd2a-d092-4383-80e5-c0ff0abf7bee",
        "colab": {
          "base_uri": "https://localhost:8080/",
          "height": 159
        }
      },
      "source": [
        "# fitting the naive bayes algorithm model\n",
        "classifier.fit(x_train,y_train)\n"
      ],
      "execution_count": 0,
      "outputs": [
        {
          "output_type": "execute_result",
          "data": {
            "text/plain": [
              "RandomForestClassifier(bootstrap=True, ccp_alpha=0.0, class_weight=None,\n",
              "                       criterion='entropy', max_depth=None, max_features='auto',\n",
              "                       max_leaf_nodes=None, max_samples=None,\n",
              "                       min_impurity_decrease=0.0, min_impurity_split=None,\n",
              "                       min_samples_leaf=1, min_samples_split=2,\n",
              "                       min_weight_fraction_leaf=0.0, n_estimators=200,\n",
              "                       n_jobs=None, oob_score=False, random_state=None,\n",
              "                       verbose=0, warm_start=False)"
            ]
          },
          "metadata": {
            "tags": []
          },
          "execution_count": 36
        }
      ]
    },
    {
      "cell_type": "markdown",
      "metadata": {
        "id": "fEV4lu3ks_72",
        "colab_type": "text"
      },
      "source": [
        "**Analysis of the trained Model**"
      ]
    },
    {
      "cell_type": "code",
      "metadata": {
        "id": "h7GfExgTs5-x",
        "colab_type": "code",
        "colab": {}
      },
      "source": [
        "y_pred = classifier.predict(x_test)"
      ],
      "execution_count": 0,
      "outputs": []
    },
    {
      "cell_type": "markdown",
      "metadata": {
        "id": "G_Mp2442__Jt",
        "colab_type": "text"
      },
      "source": [
        "a) printing the accuracy score"
      ]
    },
    {
      "cell_type": "code",
      "metadata": {
        "id": "V1KjraeL_-Sl",
        "colab_type": "code",
        "colab": {}
      },
      "source": [
        "from sklearn.metrics import accuracy_score"
      ],
      "execution_count": 0,
      "outputs": []
    },
    {
      "cell_type": "code",
      "metadata": {
        "id": "UdlvNjZzAIq7",
        "colab_type": "code",
        "outputId": "002998b9-8289-4090-ce1b-2290e545d359",
        "colab": {
          "base_uri": "https://localhost:8080/",
          "height": 35
        }
      },
      "source": [
        "accuracy = accuracy_score(y_test, y_pred)\n",
        "print('accuracy :',accuracy*100,\"%\")"
      ],
      "execution_count": 0,
      "outputs": [
        {
          "output_type": "stream",
          "text": [
            "accuracy : 99.87895090786819 %\n"
          ],
          "name": "stdout"
        }
      ]
    },
    {
      "cell_type": "markdown",
      "metadata": {
        "id": "VIHWFidR-iCq",
        "colab_type": "text"
      },
      "source": [
        "b) printing the confusion matrix"
      ]
    },
    {
      "cell_type": "code",
      "metadata": {
        "id": "TWKr30f5uj2z",
        "colab_type": "code",
        "outputId": "cdd025f1-6361-47d8-bed6-f36256d27efb",
        "colab": {
          "base_uri": "https://localhost:8080/",
          "height": 72
        }
      },
      "source": [
        "import matplotlib.pyplot as plt\n",
        "import seaborn as sns\n",
        "\n",
        "from sklearn import metrics\n",
        "from sklearn.metrics import confusion_matrix"
      ],
      "execution_count": 0,
      "outputs": [
        {
          "output_type": "stream",
          "text": [
            "/usr/local/lib/python3.6/dist-packages/statsmodels/tools/_testing.py:19: FutureWarning: pandas.util.testing is deprecated. Use the functions in the public API at pandas.testing instead.\n",
            "  import pandas.util.testing as tm\n"
          ],
          "name": "stderr"
        }
      ]
    },
    {
      "cell_type": "code",
      "metadata": {
        "id": "dkUe5zlu-xyW",
        "colab_type": "code",
        "outputId": "b9c7ddbe-fbfb-4e27-ea5d-15ec813f88b3",
        "colab": {
          "base_uri": "https://localhost:8080/",
          "height": 70
        }
      },
      "source": [
        "# using the traditional way to print the confusion matrix\n",
        "confusion_m = confusion_matrix(y_test, y_pred)\n",
        "confusion_m"
      ],
      "execution_count": 0,
      "outputs": [
        {
          "output_type": "execute_result",
          "data": {
            "text/plain": [
              "array([[ 418,    9,    0],\n",
              "       [   0, 5747,    0],\n",
              "       [   0,    0, 1261]])"
            ]
          },
          "metadata": {
            "tags": []
          },
          "execution_count": 41
        }
      ]
    },
    {
      "cell_type": "code",
      "metadata": {
        "id": "D5K7BVYZ-xgn",
        "colab_type": "code",
        "outputId": "f63d6c7d-aa26-465a-9106-c20bc5315e87",
        "colab": {
          "base_uri": "https://localhost:8080/",
          "height": 544
        }
      },
      "source": [
        "# using seaborn to print the confusion matrix\n",
        "\n",
        "mat = metrics.confusion_matrix(y_test,y_pred)\n",
        "\n",
        "plt.figure(figsize=(9,9))\n",
        "sns.heatmap(mat, annot=True, fmt='.3f', linewidths = 0.5 , square = True , cmap = 'Blues_r', xticklabels = y.unique(), yticklabels = y.unique())\n",
        "plt.ylabel('Actual Label')\n",
        "plt.xlabel('Predicted Label')\n",
        "\n",
        "sample_tit = 'Accuracy score:{} %'.format(accuracy*100)\n",
        "plt.title(sample_tit,size = 15)"
      ],
      "execution_count": 0,
      "outputs": [
        {
          "output_type": "execute_result",
          "data": {
            "text/plain": [
              "Text(0.5, 1.0, 'Accuracy score:99.87895090786819 %')"
            ]
          },
          "metadata": {
            "tags": []
          },
          "execution_count": 42
        },
        {
          "output_type": "display_data",
          "data": {
            "image/png": "[encoded data removed]",
            "text/plain": [
              "<Figure size 648x648 with 2 Axes>"
            ]
          },
          "metadata": {
            "tags": [],
            "needs_background": "light"
          }
        }
      ]
    },
    {
      "cell_type": "markdown",
      "metadata": {
        "id": "U4E6vM8qBGGE",
        "colab_type": "text"
      },
      "source": [
        "c) printing classification report"
      ]
    },
    {
      "cell_type": "code",
      "metadata": {
        "id": "cgt20zmjujuG",
        "colab_type": "code",
        "colab": {}
      },
      "source": [
        "from sklearn.metrics import classification_report"
      ],
      "execution_count": 0,
      "outputs": []
    },
    {
      "cell_type": "code",
      "metadata": {
        "id": "xwoRgN24Bv3R",
        "colab_type": "code",
        "outputId": "6c10e9f5-b578-4d00-a7a3-d72d92671542",
        "colab": {
          "base_uri": "https://localhost:8080/",
          "height": 195
        }
      },
      "source": [
        "report=classification_report(y_test,y_pred)\n",
        "print(report)"
      ],
      "execution_count": 0,
      "outputs": [
        {
          "output_type": "stream",
          "text": [
            "              precision    recall  f1-score   support\n",
            "\n",
            "           0       1.00      0.98      0.99       427\n",
            "           1       1.00      1.00      1.00      5747\n",
            "           2       1.00      1.00      1.00      1261\n",
            "\n",
            "    accuracy                           1.00      7435\n",
            "   macro avg       1.00      0.99      1.00      7435\n",
            "weighted avg       1.00      1.00      1.00      7435\n",
            "\n"
          ],
          "name": "stdout"
        }
      ]
    },
    {
      "cell_type": "markdown",
      "metadata": {
        "id": "R-1_x_DCExV2",
        "colab_type": "text"
      },
      "source": [
        "Misclassified data"
      ]
    },
    {
      "cell_type": "code",
      "metadata": {
        "id": "gJvNrdH_B9dX",
        "colab_type": "code",
        "outputId": "b5dd8aa2-9b87-4b63-b413-1e515f6ca2b5",
        "colab": {
          "base_uri": "https://localhost:8080/",
          "height": 35
        }
      },
      "source": [
        "index = 0\n",
        "misclassified_index = []\n",
        "\n",
        "\n",
        "# step1 - creating a misclassified index\n",
        "for predict,actual in zip(y_pred,y_test):\n",
        "    if predict != actual:\n",
        "        misclassified_index.append(index)\n",
        "\n",
        "    index = index + 1   \n",
        "\n",
        "   \n",
        "print(misclassified_index)   "
      ],
      "execution_count": 0,
      "outputs": [
        {
          "output_type": "stream",
          "text": [
            "[271, 847, 1988, 2269, 2936, 2963, 5336, 6099, 6677]\n"
          ],
          "name": "stdout"
        }
      ]
    },
    {
      "cell_type": "code",
      "metadata": {
        "id": "nzArBykAHCf9",
        "colab_type": "code",
        "outputId": "3e62bcf2-49f9-4bbd-f998-ca3c4b01264e",
        "colab": {
          "base_uri": "https://localhost:8080/",
          "height": 177
        }
      },
      "source": [
        "# step2 - printing the misclassified values\n",
        "for i in misclassified_index:\n",
        "  print('actual value:',y_test[i],'predicted value:',y_pred[i]) "
      ],
      "execution_count": 0,
      "outputs": [
        {
          "output_type": "stream",
          "text": [
            "actual value: 0 predicted value: 1\n",
            "actual value: 0 predicted value: 1\n",
            "actual value: 0 predicted value: 1\n",
            "actual value: 0 predicted value: 1\n",
            "actual value: 0 predicted value: 1\n",
            "actual value: 0 predicted value: 1\n",
            "actual value: 0 predicted value: 1\n",
            "actual value: 0 predicted value: 1\n",
            "actual value: 0 predicted value: 1\n"
          ],
          "name": "stdout"
        }
      ]
    },
    {
      "cell_type": "code",
      "metadata": {
        "id": "J5yLBPYmH51C",
        "colab_type": "code",
        "outputId": "4d2fb71d-6041-41aa-c480-a9e4da960c54",
        "colab": {
          "base_uri": "https://localhost:8080/",
          "height": 35
        }
      },
      "source": [
        "# total number of misclassified values\n",
        "print(len(misclassified_index))"
      ],
      "execution_count": 0,
      "outputs": [
        {
          "output_type": "stream",
          "text": [
            "9\n"
          ],
          "name": "stdout"
        }
      ]
    },
    {
      "cell_type": "code",
      "metadata": {
        "id": "LXavbj5bIIRM",
        "colab_type": "code",
        "colab": {}
      },
      "source": [
        ""
      ],
      "execution_count": 0,
      "outputs": []
    }
  ]
}